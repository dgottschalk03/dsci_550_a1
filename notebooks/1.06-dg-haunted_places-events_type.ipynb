{
  "nbformat": 4,
  "nbformat_minor": 0,
  "metadata": {
    "colab": {
      "provenance": [],
      "authorship_tag": "ABX9TyPTaPI2zaSIKCALF2Fd1yBZ",
      "include_colab_link": true
    },
    "kernelspec": {
      "name": "python3",
      "display_name": "Python 3"
    },
    "language_info": {
      "name": "python"
    }
  },
  "cells": [
    {
      "cell_type": "markdown",
      "metadata": {
        "id": "view-in-github",
        "colab_type": "text"
      },
      "source": [
        "<a href=\"https://colab.research.google.com/github/dgottschalk03/dsci_550_a1/blob/main/notebooks/events_type.ipynb\" target=\"_parent\"><img src=\"https://colab.research.google.com/assets/colab-badge.svg\" alt=\"Open In Colab\"/></a>"
      ]
    },
    {
      "cell_type": "markdown",
      "source": [
        "1.06- Event Type\n",
        "\n",
        "\n",
        "Chatgpt generated keywords that fall under the groups of \"violance\", \"supernatural\" and \"accident/disaster\" in all tenses.\n",
        "\n"
      ],
      "metadata": {
        "id": "3OkkUzpYE0dO"
      }
    },
    {
      "cell_type": "code",
      "source": [
        "import pandas as pd\n",
        "import re\n",
        "import time"
      ],
      "metadata": {
        "id": "uiOxPEgBNMeg"
      },
      "execution_count": 1,
      "outputs": []
    },
    {
      "cell_type": "code",
      "execution_count": 3,
      "metadata": {
        "id": "N5pUqtIicmU_",
        "colab": {
          "base_uri": "https://localhost:8080/"
        },
        "outputId": "bb61e51c-591e-4551-acac-32834f524d90"
      },
      "outputs": [
        {
          "output_type": "stream",
          "name": "stdout",
          "text": [
            "---------------------------------------------------------------------------------------------------- Extraction Completed ----------------------------------------------------------------------------------------------------\n",
            "Extraction Took: 1.925974 seconds\n",
            "\n",
            "Unknown: 3878\n",
            "Supernatural: 2813\n",
            "Supernatural, Violence: 1377\n",
            "Violence: 1363\n",
            "Accident/Disaster: 467\n",
            "Accident/Disaster, Violence: 379\n",
            "Accident/Disaster, Supernatural, Violence: 375\n",
            "Accident/Disaster, Supernatural: 340\n",
            "----------------------------------------------------------------------------------------------------\n"
          ]
        }
      ],
      "source": [
        "# Load dataset\n",
        "df = pd.read_csv(\"haunted_places.tab\", sep=\"\\t\")\n",
        "\n",
        "# Define groups of keywords with regex patterns\n",
        "event_groups = {\n",
        "    \"Violence\": [\n",
        "        r\"murder(?:ed|s)?\",         # murder, murdered, murders\n",
        "        r\"kill(?:ed|s|ing)?\",        # kill, killed, kills, killing\n",
        "        r\"homicide\",                # homicide\n",
        "        r\"death(?:s)?\",             # death, deaths\n",
        "        r\"died\",                    # died\n",
        "        r\"slain\",                   # slain\n",
        "        r\"massacre(?:d|s)?\",         # massacre, massacred, massacres\n",
        "        r\"execute(?:d|s|ing)?\",      # execute, executed, executes, executing\n",
        "        r\"crime(?:s)?\",             # crime, crimes\n",
        "        r\"strangl(?:e|ed|es|ing)\",   # strangle, strangled, strangles, strangling\n",
        "        r\"stab(?:bed|s|bing)?\",      # stab, stabbed, stabs, stabbing\n",
        "        r\"shot\",                    # shot\n",
        "        r\"suicide(?:s)?\"            # suicide, suicides\n",
        "    ],\n",
        "    \"Supernatural\": [\n",
        "        r\"supernatural\",            # supernatural\n",
        "        r\"paranormal\",              # paranormal\n",
        "        r\"haunt(?:ed|ing|s)?\",       # haunt, haunted, haunting, haunts\n",
        "        r\"curse(?:d|s|ing)?\",        # curse, cursed, curses, cursing\n",
        "        r\"evil\",                    # evil\n",
        "        r\"possess(?:ion|ed|es|ing)?\",# possession, possessed, possesses, possessing\n",
        "        r\"ghost(?:ly|s)?\",          # ghost, ghostly, ghosts\n",
        "        r\"poltergeist\",             # poltergeist\n",
        "        r\"eerie\",                   # eerie\n",
        "        r\"demon(?:ic|strated|s)?\",   # demon, demonic, demons\n",
        "        r\"mysterious\",              # mysterious\n",
        "        r\"occult\",                  # occult\n",
        "        r\"unexplained\",             # unexplained\n",
        "        r\"witchcraft\",              # witchcraft\n",
        "        r\"witch(?:es)?\"            # witch, witches\n",
        "    ],\n",
        "    \"Accident/Disaster\": [\n",
        "        r\"accident(?:al|s)?\",       # accident, accidental, accidents\n",
        "        r\"traged(?:y|ies)\",         # tragedy, tragedies\n",
        "        r\"drown(?:ing|ed|s)?\",       # drown, drowning, drowns, drowned\n",
        "        r\"fire(?:d|s|ing)?\",         # fire, fired, fires, firing\n",
        "        r\"explos(?:ion|ions|ive|ed)\",# explosion, explosions, explosive, exploded\n",
        "        r\"disaster(?:s)?\",          # disaster, disasters\n",
        "        r\"fall(?:en|s|ing)?\",        # fall, fallen, falls, falling\n",
        "        r\"collaps(?:ed|es|ing)?\",    # collapse, collapsed, collapses, collapsing\n",
        "        r\"burn(?:ed|s|ing)?\",        # burn, burned, burns, burning\n",
        "        r\"suffocat(?:ion|e|es|ing)?\",# suffocation, suffocate, suffocates, suffocating, suffocated\n",
        "        r\"lost\",                    # lost\n",
        "        r\"catastroph(?:e|es)\",       # catastrophe, catastrophes\n",
        "        r\"avalanche(?:s)?\",         # avalanche, avalanches\n",
        "        r\"shipwreck(?:ed|s)?\",       # shipwreck, shipwrecked, shipwrecks\n",
        "        r\"landslide(?:s)?\"          # landslide, landslides\n",
        "    ]\n",
        "}\n",
        "\n",
        "def classify_event(text):\n",
        "    if not isinstance(text, str):\n",
        "        return \"Unknown\"\n",
        "\n",
        "    text = text.lower()\n",
        "    triggered_groups = set()\n",
        "\n",
        "    # Check every keyword in every group\n",
        "    for group, patterns in event_groups.items():\n",
        "        for pattern in patterns:\n",
        "            if re.search(rf\"\\b{pattern}\\b\", text):\n",
        "                triggered_groups.add(group)\n",
        "\n",
        "\n",
        "    if not triggered_groups:\n",
        "        return \"Unknown\"\n",
        "\n",
        "    # Return all matched groups\n",
        "    return \", \".join(sorted(triggered_groups))\n",
        "\n",
        "# Start timing\n",
        "start = time.time()\n",
        "\n",
        "# Apply classification to the \"description\" column.\n",
        "df[\"Event Type\"] = df[\"description\"].apply(classify_event)\n",
        "\n",
        "# Stop timing\n",
        "end = time.time()\n",
        "\n",
        "# Count occurrences\n",
        "counts = df[\"Event Type\"].value_counts()\n",
        "unknown_counts = counts.get(\"Unknown\", 0)\n",
        "\n",
        "extract_printout = [(category, count) for category, count in counts.items()]\n",
        "print(\"-\" * 100, \"Extraction Completed\", \"-\" * 100)\n",
        "print(f\"Extraction Took: {end - start:.6f} seconds\\n\")\n",
        "print(\"\\n\".join([f\"{category}: {count}\" for category, count in extract_printout]))\n",
        "print(\"-\" * 100)\n"
      ]
    }
  ]
}
