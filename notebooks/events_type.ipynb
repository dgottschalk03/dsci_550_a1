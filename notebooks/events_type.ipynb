{
  "nbformat": 4,
  "nbformat_minor": 0,
  "metadata": {
    "colab": {
      "provenance": [],
      "authorship_tag": "ABX9TyNEcVJKrJnZlo85RV+OfhD8",
      "include_colab_link": true
    },
    "kernelspec": {
      "name": "python3",
      "display_name": "Python 3"
    },
    "language_info": {
      "name": "python"
    }
  },
  "cells": [
    {
      "cell_type": "markdown",
      "metadata": {
        "id": "view-in-github",
        "colab_type": "text"
      },
      "source": [
        "<a href=\"https://colab.research.google.com/github/dgottschalk03/dsci_550_a1/blob/main/notebooks/events_type.ipynb\" target=\"_parent\"><img src=\"https://colab.research.google.com/assets/colab-badge.svg\" alt=\"Open In Colab\"/></a>"
      ]
    },
    {
      "cell_type": "markdown",
      "source": [
        "1.06- Event Type\n",
        "\n",
        "\n",
        "*  search for keywords: murder, killed, homicide, death, died, slain, massacre, executed, crime, strangled, stabbed, shot, suicide, massacre, supernatural, paranormal, haunting, cursed, evil, possession, ghostly, poltergeist, eerie, demonic, mysterious, occult, unexplained, witchcraft, accident, tragedy, drowning, fire, explosion, disaster, fallen, collapsed, burned, suffocation, lost, catastrophe, avalanche, shipwreck, landslide\n",
        "\n"
      ],
      "metadata": {
        "id": "3OkkUzpYE0dO"
      }
    },
    {
      "cell_type": "code",
      "source": [
        "import pandas as pd\n",
        "import re\n",
        "import time"
      ],
      "metadata": {
        "id": "uiOxPEgBNMeg"
      },
      "execution_count": 1,
      "outputs": []
    },
    {
      "cell_type": "code",
      "execution_count": 2,
      "metadata": {
        "id": "N5pUqtIicmU_",
        "colab": {
          "base_uri": "https://localhost:8080/"
        },
        "outputId": "c9e75119-cec1-42b6-ac75-e8a4217b3f8c"
      },
      "outputs": [
        {
          "output_type": "stream",
          "name": "stdout",
          "text": [
            "---------------------------------------------------------------------------------------------------- Extraction Completed ----------------------------------------------------------------------------------------------------\n",
            "Extraction Took: 2.226780 seconds\n",
            "\n",
            "Unknown: 3878\n",
            "Supernatural: 2813\n",
            "Violence, Supernatural: 1377\n",
            "Violence: 1363\n",
            "Accident/Disaster: 467\n",
            "Violence, Accident/Disaster: 379\n",
            "Violence, Supernatural, Accident/Disaster: 375\n",
            "Supernatural, Accident/Disaster: 340\n",
            "----------------------------------------------------------------------------------------------------\n"
          ]
        }
      ],
      "source": [
        "\n",
        "\n",
        "# Load data\n",
        "df = pd.read_csv(\"haunted_places.tab\", sep=\"\\t\")\n",
        "\n",
        "# Define groups of keywords with regex patterns\n",
        "event_groups = {\n",
        "    \"Violence\": [\n",
        "        r\"murder(?:ed|s)?\",         # matches: murder, murdered, murders\n",
        "        r\"kill(?:ed|s|ing)?\",        # matches: kill, killed, kills, killing\n",
        "        r\"homicide\",                # matches: homicide\n",
        "        r\"death(?:s)?\",             # matches: death, deaths\n",
        "        r\"died\",                    # matches: died\n",
        "        r\"slain\",                   # matches: slain\n",
        "        r\"massacre(?:d|s)?\",         # matches: massacre, massacred, massacres\n",
        "        r\"execute(?:d|s|ing)?\",      # matches: execute, executed, executes, executing\n",
        "        r\"crime(?:s)?\",             # matches: crime, crimes\n",
        "        r\"strangl(?:e|ed|es|ing)\",   # matches: strangle, strangled, strangles, strangling\n",
        "        r\"stab(?:bed|s|bing)?\",      # matches: stab, stabbed, stabs, stabbing\n",
        "        r\"shot\",                    # matches: shot\n",
        "        r\"suicide(?:s)?\"            # matches: suicide, suicides\n",
        "    ],\n",
        "    \"Supernatural\": [\n",
        "        r\"supernatural\",            # matches: supernatural\n",
        "        r\"paranormal\",              # matches: paranormal\n",
        "        r\"haunt(?:ed|ing|s)?\",       # matches: haunt, haunted, haunting, haunts\n",
        "        r\"curse(?:d|s|ing)?\",        # matches: curse, cursed, curses, cursing\n",
        "        r\"evil\",                    # matches: evil\n",
        "        r\"possess(?:ion|ed|es|ing)?\",# matches: possession, possessed, possesses, possessing\n",
        "        r\"ghost(?:ly|s)?\",          # matches: ghost, ghostly, ghosts\n",
        "        r\"poltergeist\",             # matches: poltergeist\n",
        "        r\"eerie\",                   # matches: eerie\n",
        "        r\"demon(?:ic|strated|s)?\",   # matches: demon, demonic, demons\n",
        "        r\"mysterious\",              # matches: mysterious\n",
        "        r\"occult\",                  # matches: occult\n",
        "        r\"unexplained\",             # matches: unexplained\n",
        "        r\"witchcraft\",              # matches: witchcraft\n",
        "        r\"witch(?:es)?\"            # matches: witch, witches\n",
        "    ],\n",
        "    \"Accident/Disaster\": [\n",
        "        r\"accident(?:al|s)?\",       # matches: accident, accidental, accidents\n",
        "        r\"traged(?:y|ies)\",         # matches: tragedy, tragedies\n",
        "        r\"drown(?:ing|ed|s)?\",       # matches: drown, drowning, drowns, drowned\n",
        "        r\"fire(?:d|s|ing)?\",         # matches: fire, fired, fires, firing\n",
        "        r\"explos(?:ion|ions|ive|ed)\",# matches: explosion, explosions, explosive, exploded\n",
        "        r\"disaster(?:s)?\",          # matches: disaster, disasters\n",
        "        r\"fall(?:en|s|ing)?\",        # matches: fall, fallen, falls, falling\n",
        "        r\"collaps(?:ed|es|ing)?\",    # matches: collapse, collapsed, collapses, collapsing\n",
        "        r\"burn(?:ed|s|ing)?\",        # matches: burn, burned, burns, burning\n",
        "        r\"suffocat(?:ion|e|es|ing)?\",# matches: suffocation, suffocate, suffocates, suffocating, suffocated\n",
        "        r\"lost\",                    # matches: lost\n",
        "        r\"catastroph(?:e|es)\",       # matches: catastrophe, catastrophes\n",
        "        r\"avalanche(?:s)?\",         # matches: avalanche, avalanches\n",
        "        r\"shipwreck(?:ed|s)?\",       # matches: shipwreck, shipwrecked, shipwrecks\n",
        "        r\"landslide(?:s)?\"          # matches: landslide, landslides\n",
        "    ]\n",
        "}\n",
        "\n",
        "def classify_event(text):\n",
        "    if not isinstance(text, str):\n",
        "        return \"Unknown\"\n",
        "\n",
        "    text = text.lower()\n",
        "    triggered_groups = []\n",
        "\n",
        "    # Loop through each group\n",
        "    for group, patterns in event_groups.items():\n",
        "        for pattern in patterns:\n",
        "            # Check if the pattern matches anywhere\n",
        "            if re.search(rf\"\\b{pattern}\\b\", text):\n",
        "                triggered_groups.append(group)\n",
        "                # Move on to the next group when match found\n",
        "                break\n",
        "\n",
        "    if not triggered_groups:\n",
        "        return \"Unknown\"\n",
        "\n",
        "    # Return all matched groups\n",
        "    return \", \".join(triggered_groups)\n",
        "\n",
        "# Start timing\n",
        "start = time.time()\n",
        "\n",
        "# Apply classification to the \"description\" column.\n",
        "df[\"Event Type\"] = df[\"description\"].apply(classify_event)\n",
        "\n",
        "# Stop timing\n",
        "end = time.time()\n",
        "\n",
        "# Count occurrences\n",
        "counts = df[\"Event Type\"].value_counts()\n",
        "unknown_counts = counts.get(\"Unknown\", 0)\n",
        "\n",
        "extract_printout = [(category, count) for category, count in counts.items()]\n",
        "print(\"-\" * 100, \"Extraction Completed\", \"-\" * 100)\n",
        "print(f\"Extraction Took: {end - start:.6f} seconds\\n\")\n",
        "print(\"\\n\".join([f\"{category}: {count}\" for category, count in extract_printout]))\n",
        "print(\"-\" * 100)\n"
      ]
    }
  ]
}