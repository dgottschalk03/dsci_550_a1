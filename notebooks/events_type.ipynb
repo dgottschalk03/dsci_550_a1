{
  "nbformat": 4,
  "nbformat_minor": 0,
  "metadata": {
    "colab": {
      "provenance": [],
      "authorship_tag": "ABX9TyPORTrBuG15UgLcsYFu6Nug",
      "include_colab_link": true
    },
    "kernelspec": {
      "name": "python3",
      "display_name": "Python 3"
    },
    "language_info": {
      "name": "python"
    }
  },
  "cells": [
    {
      "cell_type": "markdown",
      "metadata": {
        "id": "view-in-github",
        "colab_type": "text"
      },
      "source": [
        "<a href=\"https://colab.research.google.com/github/dgottschalk03/dsci_550_a1/blob/main/notebooks/events_type.ipynb\" target=\"_parent\"><img src=\"https://colab.research.google.com/assets/colab-badge.svg\" alt=\"Open In Colab\"/></a>"
      ]
    },
    {
      "cell_type": "markdown",
      "source": [
        "1.06- Event Type\n",
        "\n",
        "\n",
        "*  search for keywords: murder, killed, homicide, death, died, slain, massacre, executed, crime, strangled, stabbed, shot, suicide, massacre, supernatural, paranormal, haunting, cursed, evil, possession, ghostly, poltergeist, eerie, demonic, mysterious, occult, unexplained, witchcraft, accident, tragedy, drowning, fire, explosion, disaster, fallen, collapsed, burned, suffocation, lost, catastrophe, avalanche, shipwreck, landslide\n",
        "\n"
      ],
      "metadata": {
        "id": "3OkkUzpYE0dO"
      }
    },
    {
      "cell_type": "code",
      "source": [
        "import pandas as pd\n",
        "import re\n",
        "import time"
      ],
      "metadata": {
        "id": "uiOxPEgBNMeg"
      },
      "execution_count": 2,
      "outputs": []
    },
    {
      "cell_type": "code",
      "execution_count": 3,
      "metadata": {
        "id": "N5pUqtIicmU_",
        "colab": {
          "base_uri": "https://localhost:8080/"
        },
        "outputId": "3c70d4d7-d112-4eb3-8d5a-5851a43bc0cb"
      },
      "outputs": [
        {
          "output_type": "stream",
          "name": "stdout",
          "text": [
            "---------------------------------------------------------------------------------------------------- Extraction Completed ----------------------------------------------------------------------------------------------------\n",
            "Extraction Took: 2.253172 seconds\n",
            "\n",
            "Unknown: 6489\n",
            "Died: 1135\n",
            "Killed: 1053\n",
            "Death: 417\n",
            "Ghostly: 235\n",
            "Suicide: 183\n",
            "Fire: 157\n",
            "Haunting: 154\n",
            "Murder: 124\n",
            "Eerie: 123\n",
            "Shot: 108\n",
            "Mysterious: 107\n",
            "Paranormal: 103\n",
            "Burned: 90\n",
            "Lost: 85\n",
            "Unexplained: 83\n",
            "Evil: 73\n",
            "Accident: 41\n",
            "Poltergeist: 35\n",
            "Fallen: 27\n",
            "Supernatural: 24\n",
            "Drowning: 19\n",
            "Cursed: 17\n",
            "Massacre: 12\n",
            "Stabbed: 12\n",
            "Witchcraft: 11\n",
            "Crime: 11\n",
            "Demonic: 10\n",
            "Collapsed: 8\n",
            "Executed: 7\n",
            "Strangled: 6\n",
            "Occult: 6\n",
            "Possession: 6\n",
            "Tragedy: 5\n",
            "Homicide: 5\n",
            "Explosion: 4\n",
            "Slain: 3\n",
            "Disaster: 2\n",
            "Shipwreck: 1\n",
            "Suffocation: 1\n",
            "----------------------------------------------------------------------------------------------------\n"
          ]
        }
      ],
      "source": [
        "# Load dataset\n",
        "df = pd.read_csv(\"haunted_places.tab\", sep=\"\\t\")\n",
        "\n",
        "# Load keywords from the file\n",
        "with open(\"event_keywords.txt\", \"r\") as f:\n",
        "    event_keywords = f.read().strip().split(\", \")\n",
        "\n",
        "# Function to classify event type (say unknown if we dont find one)\n",
        "def classify_event(text):\n",
        "    if not isinstance(text, str):\n",
        "        return \"Unknown\"\n",
        "\n",
        "    text = text.lower()\n",
        "\n",
        "    for keyword in event_keywords:\n",
        "        if re.search(rf\"\\b{keyword}\\b\", text, re.IGNORECASE):\n",
        "            return keyword.capitalize()\n",
        "\n",
        "    return \"Unknown\"\n",
        "\n",
        "# Start timing\n",
        "start = time.time()\n",
        "\n",
        "# Apply classification\n",
        "df[\"Event Type\"] = df[\"description\"].apply(classify_event)\n",
        "\n",
        "# Stop timing\n",
        "end = time.time()\n",
        "\n",
        "# Count occurrences\n",
        "counts = df[\"Event Type\"].value_counts()\n",
        "unknown_counts = counts.get(\"Unknown\", 0)\n",
        "\n",
        "# Print report\n",
        "extract_printout = [(category, count) for category, count in counts.items()]\n",
        "print(\"-\" * 100, \"Extraction Completed\", \"-\" * 100)\n",
        "print(f\"Extraction Took: {end - start:.6f} seconds\\n\")\n",
        "print(\"\\n\".join([f\"{extract_str[0]}: {extract_str[1]}\" for extract_str in extract_printout]))\n",
        "print(\"-\" * 100)\n",
        "\n"
      ]
    }
  ]
}