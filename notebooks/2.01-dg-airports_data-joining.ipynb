{
 "cells": [
  {
   "cell_type": "markdown",
   "metadata": {},
   "source": [
    "# 2.01 - Airline Routes Dataset\n",
    "## **airline_routes.tsv**\n",
    "    As of June 2014, the OpenFlights/Airline Route Mapper Route Database contains 67663 routes between 3321 airports on 548 airlines spanning the globe, as shown in the map above. \n",
    "- Source: [link](https://raw.githubusercontent.com/jpatokal/openflights/master/data/routes.dat)\n",
    "- MimeType: /text/csv\n",
    "- Columns:\n",
    "    - `Airline`\t                2-letter (IATA) or 3-letter (ICAO) code of the airline.\n",
    "    - `Airline_ID`\t            Unique OpenFlights identifier for airline (see Airline).\n",
    "    - `Source_airport`\t        3-letter (IATA) or 4-letter (ICAO) code of the source airport.\n",
    "    - `Source_airport_ID`\t    OpenFlights identifier for source airport    \n",
    "    - `Destination_airport`\t    3-letter (IATA) or 4-letter (ICAO) code of the destination airport.\n",
    "    - `Destination_airport_ID`\tOpenFlights identifier for destination\n",
    "    - `Codeshare`\t            \"Y\" if this flight is a codeshare (not operated by Airline, but another carrier), empty otherwise.\n",
    "    - `Stops`                   Number of stops on this flight (\"0\" for direct)\n",
    "    - `Equipment`\t            3-letter codes for plane type(s) generally used on this flight, separated by spaces\n",
    "\n",
    "\n",
    "\n",
    "\n",
    "## **planes.tsv**\n",
    "    The OpenFlights plane database contains a curated selection of 173 passenger aircraft with IATA and/or ICAO codes, covering the vast majority of flights operated today and commonly used in flight schedules and reservation systems. Each entry contains the following information:\n",
    "- Source: [link](https://raw.githubusercontent.com/jpatokal/openflights/master/data/planes.dat)\n",
    "- MimeType: /text/csv\n",
    "- Columns:\n",
    "    - `Name`\t            Full name of the aircraft.\n",
    "    - `IATA_Code`\t        Unique three-letter IATA identifier for the aircraft.\n",
    "    - `ICAO_Code`\t        Unique four-letter ICAO identifier for the aircraft.\n",
    "\n",
    "\n",
    "\n",
    "## **airpots.tsv**\n",
    "- Source: [link](https://ourairports.com/data/)\n",
    "- MimeType: /text/csv\n",
    "- Columns:\n",
    "    - `ID`\t                description\n",
    "    - `Ident`\t            description\n",
    "    - `Type`\t            description\n",
    "    - `Name`                description\n",
    "    - `Latitude_Deg`        description\n",
    "    - `Longitude_Deg`\t    description\n",
    "    - `Elevation_Ft`\t    description\n",
    "    - `Continent`\t        description\n",
    "    - `ISO_Country`         description\n",
    "    - `ISO_Region`          description\n",
    "    - `Municipality`\t    description\n",
    "    - `Scheduled_Service`\tdescription\n",
    "    - `ICAO_Code`\t        description\n",
    "    - `IATA_Code`           description\n",
    "    - `GPS_Code`            description\n",
    "    - `Local_Code`\t        description\n",
    "    - `Home_Link`\t        description\n",
    "    - `Wikepedia_Link`      description\n",
    "    - `Keywords`            description\n"
   ]
  },
  {
   "cell_type": "code",
   "execution_count": null,
   "metadata": {},
   "outputs": [],
   "source": [
    "import pandas as pd\n",
    "import numpy as np\n",
    "import requests\n",
    "from io import StringIO"
   ]
  },
  {
   "cell_type": "markdown",
   "metadata": {},
   "source": [
    "### Airline_routes.tsv"
   ]
  },
  {
   "cell_type": "code",
   "execution_count": null,
   "metadata": {},
   "outputs": [],
   "source": [
    "## URL ## \n",
    "routes_url = \"https://raw.githubusercontent.com/jpatokal/openflights/master/data/routes.dat\"\n",
    "\n",
    "## Download ##\n",
    "response = requests.get(routes_url)\n",
    "\n",
    "columns = [\n",
    "    \"Airline\",\n",
    "    \"Airline_ID\",\n",
    "    \"Source_Airport\",\n",
    "    \"Source_Airport_ID\",\n",
    "    \"Destination_Airport\",\n",
    "    \"Destination_Airport_ID\",\n",
    "    \"Codeshare\",\n",
    "    \"Stops\",\n",
    "    \"Equipment\"\n",
    "]\n",
    "\n",
    "## Save as TSV ##\n",
    "df = pd.read_csv(StringIO(response.text), header=None, names = columns, index_col= False)\n",
    "\n",
    "df.to_csv('../data/joined_datasets/airline_routes.tsv', sep = '\\t', index = False)\n"
   ]
  },
  {
   "cell_type": "markdown",
   "metadata": {},
   "source": [
    "### airline_planes.tsv"
   ]
  },
  {
   "cell_type": "code",
   "execution_count": null,
   "metadata": {},
   "outputs": [],
   "source": [
    "# URL of the data\n",
    "planes_url = \"https://raw.githubusercontent.com/jpatokal/openflights/master/data/planes.dat\"\n",
    "\n",
    "# Download the file\n",
    "response = requests.get(planes_url)\n",
    "\n",
    "columns = [\n",
    "    \"Name\",\n",
    "    \"IATA_Code\",\n",
    "    \"ICAO_Code\",\n",
    "]\n",
    "\n",
    "df = pd.read_csv(StringIO(response.text), header=None, names = columns, index_col= False)\n",
    "df.to_csv('../data/joined_datasets/airline_planes.tsv', sep = '\\t', index = False)\n"
   ]
  },
  {
   "cell_type": "markdown",
   "metadata": {},
   "source": [
    "### airlines_airports.tsv"
   ]
  },
  {
   "cell_type": "code",
   "execution_count": null,
   "metadata": {},
   "outputs": [],
   "source": [
    "# Used csv2tab to convert to tsv\n",
    "df = pd.read_csv('../data/joined_datasets/airline_airports.tsv', sep = \"\\t\")\n",
    "df.info()"
   ]
  },
  {
   "cell_type": "markdown",
   "metadata": {},
   "source": [
    "### Combining 3 datasets"
   ]
  },
  {
   "cell_type": "code",
   "execution_count": null,
   "metadata": {},
   "outputs": [],
   "source": [
    "df_airports = pd.read_csv('../data/joined_datasets/airline_airports.tsv', sep = \"\\t\")\n",
    "df_planes = pd.read_csv('../data/joined_datasets/airline_planes.tsv', sep = \"\\t\")\n",
    "df_routes = (pd.read_csv('../data/joined_datasets/airline_routes.tsv', sep = \"\\t\")\n",
    "                .astype({\n",
    "                    \"Airline\": str,\n",
    "                    \"Airline_ID\": str,\n",
    "                    \"Source_Airport\": str,\n",
    "                    \"Source_Airport_ID\": str,\n",
    "                    \"Destination_Airport\": str,\n",
    "                    \"Destination_Airport_ID\": str,\n",
    "                    \"Codeshare\": str,\n",
    "                    \"Stops\": str, \n",
    "                    \"Equipment\": str   \n",
    "                })\n",
    ")\n",
    "df_routes.head()"
   ]
  },
  {
   "cell_type": "code",
   "execution_count": null,
   "metadata": {},
   "outputs": [],
   "source": [
    "df_routes.columns"
   ]
  },
  {
   "cell_type": "code",
   "execution_count": null,
   "metadata": {},
   "outputs": [],
   "source": [
    "american_airports = (df_airports\n",
    "                    .loc[df_airports[\"Iso_Country\"] == \"US\"]\n",
    "                    .drop([\"Continent\", \"Wikipedia_Link\", \"Keywords\", \"Home_Link\"], axis = 1)\n",
    "                    .fillna({\n",
    "                        \"Iata_Code\": 0,\n",
    "                        \"Icao_Code\": 0,\n",
    "                        \"GPS_Code\": 0,\n",
    "                        \"Local_Code\": 0\n",
    "                    })\n",
    "                    .astype({\n",
    "                        \"Name\": str,\n",
    "                        \"Iata_Code\": str,\n",
    "                        \"Icao_Code\": str,\n",
    "                        \"Gps_Code\": str,\n",
    "                        \"Local_Code\": str,\n",
    "                        \"Latitude_Deg\": float,\n",
    "                        \"Longitude_Deg\": float,\n",
    "                        \"Elevation_Ft\": float,\n",
    "                        \n",
    "                    })\n",
    ")\n",
    "\n",
    "\n",
    "american_Iata_Codes = american_airports.loc[american_airports['Iata_Code'] != '0', 'Iata_Code'].to_list()\n",
    "american_Iata_Codes[:10]"
   ]
  },
  {
   "cell_type": "code",
   "execution_count": null,
   "metadata": {},
   "outputs": [],
   "source": [
    "\n",
    "\n",
    "df_out = df_routes.copy()\n",
    "\n",
    "## Add Source Longitude, Latitude, Airport Type ##\n",
    "df_out = df_out.merge(df_airports[[\"Latitude_Deg\",\"Longitude_Deg\",\"Type\", \"Iso_Country\",\"Iata_Code\"]],\n",
    "                      left_on = \"Source_Airport\", \n",
    "                      right_on = \"Iata_Code\",\n",
    "                      how = 'left',\n",
    "                      ).rename({\"Latitude_Deg\": \"Latidude_Source\", \"Longitude_Deg\" : \"Longitude_Source\", \"Type\" : \"Type_Source\", \"Iso_Country\": \"Country_Source\"}, axis = 1)\n",
    "\n",
    "## Add Destination Longitude, Latitude, Airport Type ##\n",
    "df_out = df_out.merge(df_airports[[\"Latitude_Deg\",\"Longitude_Deg\",\"Type\", \"Iso_Country\",\"Iata_Code\"]],\n",
    "                      left_on = \"Destination_Airport\", \n",
    "                      right_on = \"Iata_Code\",\n",
    "                      how = 'left',\n",
    "                      ).rename({\"Latitude_Deg\": \"Latidude_Dest\", \"Longitude_Deg\" : \"Longitude_Dest\", \"Type\" : \"Type_Dest\", \"Iso_Country\": \"Country_Dest\"}, axis = 1)\n",
    "df_out.drop([\"Iata_Code_x\", \"Iata_Code_y\"], axis = 1, inplace = True)\n",
    "df_out"
   ]
  }
 ],
 "metadata": {
  "kernelspec": {
   "display_name": "base",
   "language": "python",
   "name": "python3"
  },
  "language_info": {
   "codemirror_mode": {
    "name": "ipython",
    "version": 3
   },
   "file_extension": ".py",
   "mimetype": "text/x-python",
   "name": "python",
   "nbconvert_exporter": "python",
   "pygments_lexer": "ipython3",
   "version": "3.12.9"
  }
 },
 "nbformat": 4,
 "nbformat_minor": 2
}
