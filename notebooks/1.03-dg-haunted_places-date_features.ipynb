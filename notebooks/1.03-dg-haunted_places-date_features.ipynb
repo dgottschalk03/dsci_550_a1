{
 "cells": [
  {
   "cell_type": "markdown",
   "metadata": {},
   "source": [
    "# **1.03 Date Feature Extraction**\n",
    "\n",
    "## **Date Extraction**\n",
    "\n",
    "Date extacted using [datefinder](https://github.com/akoumjian/datefinder)\n",
    " \n",
    "**\"Haunted Places Date\" [datetime]**\n",
    "- Format: YYYY/MM/DD\n",
    "- Default Value: 2015/01/01\n",
    "\n",
    "**NOTES**:\n",
    "\n",
    "- datefinder.find_dates() will parse any number as an incomplete date and set the year to 2025. \n",
    "    - To filter out false positives, we filter out dates with year == 2025. \n",
    "- Used Regex Expression to capture \"20's, 30's, etc.\". \n",
    "    - eg {index: 1275}: *\"A little boy haunts theater number 5 who was killed back in the '70's during a freak construction accident.* -> [datetime.datetime(1970, 1, 1, 0, 0)]\n",
    "- Regex Pattern for 4 digits includes \"In the\". This avoids false positives:\n",
    "    - eg. {index: 1167}: \"A young man dressed **in 1700's clothing** has been seen through the windows of the first floor. He also bangs on windows late at night as if trying to escape. It is believed that the body of the young soldier is buried on the grounds of Craven Hall.\"\n",
    "- Before extract_dates output, we removed all dates < 1620 (landing at Plymouth Rock). \n",
    "    - eg. {index: 3} = \"In the 1970's, one room, **room 211** ...\" -> datetime([211, 1, 1]).\n",
    "\n",
    "\n",
    "    "
   ]
  },
  {
   "cell_type": "markdown",
   "metadata": {},
   "source": [
    "### Feature Extraction"
   ]
  },
  {
   "cell_type": "code",
   "execution_count": 2,
   "metadata": {},
   "outputs": [
    {
     "name": "stderr",
     "output_type": "stream",
     "text": [
      "/Users/dgottschalk/miniconda3/lib/python3.12/site-packages/dateutil/parser/_parser.py:1207: UnknownTimezoneWarning: tzname M identified but not understood.  Pass `tzinfos` argument in order to correctly return a timezone-aware datetime.  In a future version, this will raise an exception.\n",
      "  warnings.warn(\"tzname {tzname} identified but not understood.  \"\n"
     ]
    }
   ],
   "source": [
    "import pandas as pd\n",
    "import datefinder\n",
    "import datetime\n",
    "import time\n",
    "import re\n",
    "\n",
    "# Reading CSV\n",
    "df = pd.read_csv(\"../data/processed/haunted_places.tab\", sep = \"\\t\")\n",
    "\n",
    "\n",
    "\n",
    "def extract_dates(text):\n",
    "    \"\"\"\n",
    "    Extract dates from a given text using three different methods:\n",
    "    - `datefinder`\n",
    "    - Two-digit regex patterns (e.g., \"20's\", \"30s\")\n",
    "    - Four-digit regex patterns (e.g., \"1920s\", \"1970's\")\n",
    "\n",
    "    Args:\n",
    "        text (str): The input text containing potential date references.\n",
    "\n",
    "    Returns:\n",
    "        dict: A dictionary containing:\n",
    "            - dates (list of datetime): Extracted date objects.\n",
    "            - datefinder_count (int): Number of dates found using datefinder.\n",
    "            - two_digit_pattern_count (int): Number of dates found using two-digit patterns.\n",
    "            - four_digit_pattern_count (int): Number of dates found using four-digit patterns.\n",
    "    \"\"\"\n",
    "\n",
    "    ## Parse Using DateFinder ##\n",
    "    # Remove Years < 1620 #\n",
    "    matched_dates = [date for date in datefinder.find_dates(text, base_date = datetime.datetime(2025, 1, 1)) \n",
    "                     if isinstance(date, datetime.datetime) and 1620 <= date.year < 2026]\n",
    "    datefinder_count = len(matched_dates)\n",
    "\n",
    "\n",
    "    matched_years = []\n",
    "\n",
    "    ## Parse Two Digit Pattern eg. \"20's\" ##\n",
    "    two_digit_pattern = [r\"\\b\\d{2}'s\\b\", r\"\\b\\d{2}s\\b\", r\"\\bin the \\d{2}'s\\b\", r\"\\bin the \\d{2}s\\b\"]\n",
    "    for pattern in two_digit_pattern:\n",
    "        matched_years.extend(\n",
    "            [re.sub(r\"in the|'|s\", \"\", year.lower()).strip() for year in re.findall(pattern, text, re.IGNORECASE)]\n",
    "        )\n",
    "    matched_years = [\"19\" + year for year in matched_years]\n",
    "    two_digit_pattern_count = len(matched_years)\n",
    "\n",
    "    ## Parse 4 Digit Pattern eg. \"in the 1970's\" ##\n",
    "    four_digit_pattern = [r\"\\bin the \\d{4}'s\\b\", r\"\\bin the \\d{4}s\\b\"]\n",
    "    for pattern in four_digit_pattern:\n",
    "        matched_years.extend(\n",
    "            [re.sub(r\"in the|'|s\", \"\", year.lower()).strip() for year in re.findall(pattern, text, re.IGNORECASE)]\n",
    "        )\n",
    "    four_digit_pattern_count = len(matched_years) - two_digit_pattern_count\n",
    "\n",
    "    ## Add Regex to Matched_Dates **\n",
    "    for year in matched_years:\n",
    "        matched_dates.append(datetime.datetime(int(year), 1, 1)) \n",
    "\n",
    "    ## If No Dates Matched, Return [2025, 1, 1] ##\n",
    "    if matched_dates == []:\n",
    "        matched_dates.append(datetime.datetime(2025, 1, 1))\n",
    "\n",
    "    ## Remove Duplicates ##\n",
    "    matched_dates = list(set(matched_dates))\n",
    "    \n",
    "    res = {\n",
    "        \"dates\" : matched_dates,\n",
    "        \"datefinder_count\" : datefinder_count,\n",
    "        \"two_digit_pattern_count\" : two_digit_pattern_count,\n",
    "        \"four_digit_pattern_count\" : four_digit_pattern_count  \n",
    "    }\n",
    "\n",
    "    return res\n",
    "\n",
    "start = time.time()\n",
    "df[\"Haunted_Places_Date\"] = df[\"description\"].apply(extract_dates)\n",
    "end = time.time()\n",
    "\n",
    "\n"
   ]
  },
  {
   "cell_type": "markdown",
   "metadata": {},
   "source": [
    "### Post-Processing"
   ]
  },
  {
   "cell_type": "code",
   "execution_count": 3,
   "metadata": {},
   "outputs": [],
   "source": [
    "## Extract Counts From Each Method ##\n",
    "df[\"Datefinder_Extracts\"] = df[\"Haunted_Places_Date\"].apply(lambda x: x[\"datefinder_count\"])\n",
    "df[\"Two_Digit_Extracts\"] = df[\"Haunted_Places_Date\"].apply(lambda x: x[\"two_digit_pattern_count\"])\n",
    "df[\"Four_Digit_Extracts\"] = df[\"Haunted_Places_Date\"].apply(lambda x: x[\"four_digit_pattern_count\"])\n",
    "\n",
    "\n",
    "date_finder_total = df[\"Datefinder_Extracts\"].sum()\n",
    "two_digit_total = df[\"Two_Digit_Extracts\"].sum()\n",
    "four_digit_total = df[\"Four_Digit_Extracts\"].sum()\n",
    "\n",
    "extract_printout = [(\"Datefinder\", date_finder_total), \n",
    "                    (\"Two_Digit\", two_digit_total), \n",
    "                    (\"Four_Digit\",four_digit_total), \n",
    "                    (\"Total\", date_finder_total + two_digit_total + four_digit_total)]\n",
    "\n",
    "## Overwrite Date Column To Exclude Counts ##\n",
    "df[\"Haunted_Places_Date\"] = df[\"Haunted_Places_Date\"].apply(lambda x: x[\"dates\"])\n",
    "\n",
    "## Find Multi Date Entries ##\n",
    "multi_date_idx = df[\"Haunted_Places_Date\"].apply(lambda x : len(x) > 2 if isinstance(x, list) else False)\n",
    "multi_date_entries = df[multi_date_idx == True]\n",
    "\n",
    "## Expand DataFrame ##\n",
    "exploded_df = df.explode(\"Haunted_Places_Date\")\n",
    "## Take Dates Out of List ##\n",
    "exploded_df['Haunted_Places_Date'].apply(lambda x: x[0] if isinstance(x, list) else x)\n",
    "## Convert to Datetime. Fillna with [2025, 1, 1] ##\n",
    "exploded_df[\"Haunted_Places_Date\"] = pd.to_datetime(exploded_df[\"Haunted_Places_Date\"], errors=\"coerce\").fillna(datetime.datetime(2025, 1, 1))\n",
    "\n",
    "\n",
    "\n"
   ]
  },
  {
   "cell_type": "markdown",
   "metadata": {},
   "source": [
    "### Report and Save"
   ]
  },
  {
   "cell_type": "code",
   "execution_count": 4,
   "metadata": {},
   "outputs": [
    {
     "name": "stdout",
     "output_type": "stream",
     "text": [
      "------------------------------------------------------------------------------------------------------------------------------------------------------ Extraction Completed ------------------------------------------------------------------------------------------------------------------------------------------------------\n",
      "Extraction Took: 16.558036 seconds\n",
      "\n",
      "Datefinder: 5136 dates extracted\n",
      "Two_Digit: 574 dates extracted\n",
      "Four_Digit: 470 dates extracted\n",
      "Total: 6180 dates extracted\n",
      "multi-date entries: 455\n",
      "\n",
      "Old Dataframe Shape: (10992, 14) -> New DataFrame Shape: (13021, 14)\n",
      "------------------------------------------------------------------------------------------------------------------------------------------------------\n"
     ]
    }
   ],
   "source": [
    "## Printout Report ##\n",
    "print(\"-\" * 150, \"Extraction Completed\", \"-\" * 150)\n",
    "print(f\"Extraction Took: {end - start:.6f} seconds\", end = \"\\n\\n\")\n",
    "print(\"\\n\".join([f\"{extract_str[0]}: {extract_str[1]} dates extracted\" for extract_str in extract_printout]))\n",
    "print(f\"multi-date entries: {len(multi_date_entries)}\", end = \"\\n\\n\")\n",
    "print(f\"Old Dataframe Shape: {df.shape} -> New DataFrame Shape: {exploded_df.shape}\")\n",
    "print(\"-\" * 150)"
   ]
  }
 ],
 "metadata": {
  "kernelspec": {
   "display_name": "base",
   "language": "python",
   "name": "python3"
  },
  "language_info": {
   "codemirror_mode": {
    "name": "ipython",
    "version": 3
   },
   "file_extension": ".py",
   "mimetype": "text/x-python",
   "name": "python",
   "nbconvert_exporter": "python",
   "pygments_lexer": "ipython3",
   "version": "3.12.9"
  }
 },
 "nbformat": 4,
 "nbformat_minor": 2
}
