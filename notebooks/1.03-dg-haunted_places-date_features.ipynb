{
 "cells": [
  {
   "cell_type": "markdown",
   "metadata": {},
   "source": [
    "# **1.03 Date Feature Extraction**\n",
    "\n",
    "## **Date Extraction**\n",
    "\n",
    "Date extacted using [datefinder](https://github.com/akoumjian/datefinder)\n",
    " \n",
    "**\"Haunted Places Date\" [datetime]**\n",
    "- Format: YYYY/MM/DD\n",
    "- Default Value: 2015/01/01\n",
    "\n",
    "**NOTES**:\n",
    "\n",
    "- datefinder.find_dates() will parse any number as an incomplete date and set the year to 2025. \n",
    "    - To filter out false positives, we filter out dates with year == 2025. \n",
    "- Used Regex Expression to capture \"20's, 30's, etc.\". \n",
    "    - eg {index: 1275}: *\"A little boy haunts theater number 5 who was killed back in the '70's during a freak construction accident.* -> [datetime.datetime(1970, 1, 1, 0, 0)]\n",
    "- Regex Pattern for 4 digits includes \"In the\". This avoids false positives:\n",
    "    - eg. {index: 1167}: \"A young man dressed **in 1700's clothing** has been seen through the windows of the first floor. He also bangs on windows late at night as if trying to escape. It is believed that the body of the young soldier is buried on the grounds of Craven Hall.\"\n",
    "- Before extract_dates output, we removed all dates < 1620 (landing at Plymouth Rock). \n",
    "    - eg. {index: 3} = \"In the 1970's, one room, **room 211** ...\" -> datetime([211, 1, 1]).\n",
    "\n",
    "\n",
    "    "
   ]
  },
  {
   "cell_type": "markdown",
   "metadata": {},
   "source": [
    "### Feature Extraction"
   ]
  },
  {
   "cell_type": "code",
   "execution_count": 2,
   "metadata": {},
   "outputs": [],
   "source": [
    "import pandas as pd\n",
    "import datefinder\n",
    "import datetime\n",
    "import time\n",
    "import re\n",
    "\n",
    "# Reading CSV\n",
    "df = pd.read_csv(\"../data/processed/haunted_places_cleaned.tab\", sep = \"\\t\")\n",
    "df[\"description\"] = df[\"description\"].fillna(\" \").astype(str)\n",
    "\n",
    "\n",
    "\n",
    "def extract_dates(text):\n",
    "    \"\"\"\n",
    "    Extract dates from a given text using three different methods:\n",
    "    - `datefinder`\n",
    "    - Two-digit regex patterns (e.g., \"20's\", \"30s\")\n",
    "    - Four-digit regex patterns (e.g., \"1920s\", \"1970's\")\n",
    "\n",
    "    Args:\n",
    "        text (str): The input text containing potential date references.\n",
    "\n",
    "    Returns:\n",
    "        dict: A dictionary containing:\n",
    "            - dates (list of datetime): Extracted date objects.\n",
    "            - datefinder_count (int): Number of dates found using datefinder.\n",
    "            - two_digit_pattern_count (int): Number of dates found using two-digit patterns.\n",
    "            - four_digit_pattern_count (int): Number of dates found using four-digit patterns.\n",
    "    \"\"\"\n",
    "\n",
    "    ## Parse Using DateFinder ##\n",
    "    # Remove Years < 1620 #\n",
    "    matched_dates = [date for date in datefinder.find_dates(text, base_date = datetime.datetime(2025, 1, 1)) \n",
    "                    if isinstance(date, datetime.datetime) and 1620 <= date.year < 2026]\n",
    "    datefinder_count = len(matched_dates)\n",
    "\n",
    "\n",
    "    matched_years = []\n",
    "\n",
    "    ## Parse Two Digit Pattern eg. \"20's\" ##\n",
    "    two_digit_pattern = [r\"\\b\\d{2}'s\\b\", r\"\\b\\d{2}s\\b\", r\"\\bin the \\d{2}'s\\b\", r\"\\bin the \\d{2}s\\b\"]\n",
    "    for pattern in two_digit_pattern:\n",
    "        matched_years.extend(\n",
    "            [re.sub(r\"in the|'|s\", \"\", year.lower()).strip() for year in re.findall(pattern, text, re.IGNORECASE)]\n",
    "        )\n",
    "    matched_years = [\"19\" + year for year in matched_years]\n",
    "    two_digit_pattern_count = len(matched_years)\n",
    "\n",
    "    ## Parse 4 Digit Pattern eg. \"in the 1970's\" ##\n",
    "    four_digit_pattern = [r\"\\bin the \\d{4}'s\\b\", r\"\\bin the \\d{4}s\\b\"]\n",
    "    for pattern in four_digit_pattern:\n",
    "        matched_years.extend(\n",
    "            [re.sub(r\"in the|'|s\", \"\", year.lower()).strip() for year in re.findall(pattern, text, re.IGNORECASE)]\n",
    "        )\n",
    "    four_digit_pattern_count = len(matched_years) - two_digit_pattern_count\n",
    "\n",
    "    ## Add Regex to Matched_Dates **\n",
    "    for year in matched_years:\n",
    "        matched_dates.append(datetime.datetime(int(year), 1, 1)) \n",
    "\n",
    "    ## If No Dates Matched, Return [2025, 1, 1] ##\n",
    "    if matched_dates == []:\n",
    "        matched_dates.append(datetime.datetime(2025, 1, 1))\n",
    "\n",
    "    ## Remove Duplicates ##\n",
    "    matched_dates = list(set(matched_dates))\n",
    "    \n",
    "    res = {\n",
    "        \"dates\" : matched_dates,\n",
    "        \"datefinder_count\" : datefinder_count,\n",
    "        \"two_digit_pattern_count\" : two_digit_pattern_count,\n",
    "        \"four_digit_pattern_count\" : four_digit_pattern_count  \n",
    "    }\n",
    "\n",
    "    return res\n",
    "\n",
    "start = time.time()\n",
    "df[\"Haunted_Places_Date\"] = df[\"description\"].apply(extract_dates)\n",
    "end = time.time()\n",
    "\n",
    "\n"
   ]
  },
  {
   "cell_type": "markdown",
   "metadata": {},
   "source": [
    "### Post-Processing"
   ]
  },
  {
   "cell_type": "code",
   "execution_count": 3,
   "metadata": {},
   "outputs": [],
   "source": [
    "## Extract Counts From Each Method ##\n",
    "df[\"Datefinder_Extracts\"] = df[\"Haunted_Places_Date\"].apply(lambda x: x[\"datefinder_count\"])\n",
    "df[\"Two_Digit_Extracts\"] = df[\"Haunted_Places_Date\"].apply(lambda x: x[\"two_digit_pattern_count\"])\n",
    "df[\"Four_Digit_Extracts\"] = df[\"Haunted_Places_Date\"].apply(lambda x: x[\"four_digit_pattern_count\"])\n",
    "\n",
    "\n",
    "date_finder_total = df[\"Datefinder_Extracts\"].sum()\n",
    "two_digit_total = df[\"Two_Digit_Extracts\"].sum()\n",
    "four_digit_total = df[\"Four_Digit_Extracts\"].sum()\n",
    "\n",
    "extract_printout = [(\"Datefinder\", date_finder_total), \n",
    "                    (\"Two_Digit\", two_digit_total), \n",
    "                    (\"Four_Digit\",four_digit_total), \n",
    "                    (\"Total\", date_finder_total + two_digit_total + four_digit_total)]\n",
    "\n",
    "## Overwrite Date Column To Exclude Counts ##\n",
    "df[\"Haunted_Places_Date\"] = df[\"Haunted_Places_Date\"].apply(lambda x: x[\"dates\"])\n",
    "\n",
    "## Find Multi Date Entries ##\n",
    "multi_date_idx = df[\"Haunted_Places_Date\"].apply(lambda x : len(x) > 2 if isinstance(x, list) else False)\n",
    "multi_date_entries = df[multi_date_idx == True]\n",
    "\n",
    "## Expand DataFrame ##\n",
    "exploded_df = df.explode(\"Haunted_Places_Date\")\n",
    "## Take Dates Out of List ##\n",
    "exploded_df['Haunted_Places_Date'].apply(lambda x: x[0] if isinstance(x, list) else x)\n",
    "## Convert to Datetime. Fillna with [2025, 1, 1] ##\n",
    "exploded_df[\"Haunted_Places_Date\"] = pd.to_datetime(exploded_df[\"Haunted_Places_Date\"], errors=\"coerce\").fillna(datetime.datetime(2025, 1, 1))\n",
    "\n",
    "\n",
    "\n"
   ]
  },
  {
   "cell_type": "code",
   "execution_count": 4,
   "metadata": {},
   "outputs": [
    {
     "data": {
      "application/vnd.microsoft.datawrangler.viewer.v0+json": {
       "columns": [
        {
         "name": "index",
         "rawType": "int64",
         "type": "integer"
        },
        {
         "name": "city",
         "rawType": "object",
         "type": "string"
        },
        {
         "name": "country",
         "rawType": "object",
         "type": "string"
        },
        {
         "name": "description",
         "rawType": "object",
         "type": "string"
        },
        {
         "name": "location",
         "rawType": "object",
         "type": "string"
        },
        {
         "name": "state",
         "rawType": "object",
         "type": "string"
        },
        {
         "name": "state_abbrev",
         "rawType": "object",
         "type": "string"
        },
        {
         "name": "longitude",
         "rawType": "float64",
         "type": "float"
        },
        {
         "name": "latitude",
         "rawType": "float64",
         "type": "float"
        },
        {
         "name": "city_longitude",
         "rawType": "float64",
         "type": "float"
        },
        {
         "name": "city_latitude",
         "rawType": "float64",
         "type": "float"
        },
        {
         "name": "Haunted_Places_Date",
         "rawType": "object",
         "type": "unknown"
        },
        {
         "name": "Datefinder_Extracts",
         "rawType": "int64",
         "type": "integer"
        },
        {
         "name": "Two_Digit_Extracts",
         "rawType": "int64",
         "type": "integer"
        },
        {
         "name": "Four_Digit_Extracts",
         "rawType": "int64",
         "type": "integer"
        }
       ],
       "conversionMethod": "pd.DataFrame",
       "ref": "7582694d-30a5-4a41-8026-69bce0ab4aa1",
       "rows": [
        [
         "1212",
         "Sonoma",
         "United States",
         "old theatre houses spirit young girl aged anywhere 10 20 wears yellow dress eras thirties workers theatre call trixie tends seen women 's washroom mirror standing behind person alone turn around gone .. dressing room 's lights tend turn accord sounds girl 's laughter",
         "Sebastianni Theatre",
         "California",
         "CA",
         "-122.4565438",
         "38.2922853",
         "-122.4580356",
         "38.291859",
         "[datetime.datetime(2025, 10, 20, 0, 0)]",
         "1",
         "0",
         "0"
        ],
        [
         "2731",
         "Kern County/ Bakersfield",
         "United States",
         "woman dressed flowing gown somewhat like ones thirties forties seen floating foot road east west lerdo highway freeway 99 state route 43. seen years years legend way wedding killed car accident",
         "Lerdo Highway",
         "California",
         "CA",
         "-119.1169571",
         "35.4996207",
         "-119.0187125",
         "35.3732921",
         "[datetime.datetime(1999, 1, 1, 0, 0)]",
         "1",
         "0",
         "0"
        ],
        [
         "6050",
         "Wauwatosa",
         "United States",
         "mass unmarked graves found milwaukee county grounds next soccer field graves belonged victims tb residents `` poor farm '' county ran twenties thirties possibly earlier site hot bed restless spirits felt well seen many people several occasions seen figures including children slowly walking fenced cemetery odd hours night",
         "Potter's Field",
         "Wisconsin",
         "WI",
         "-87.86327159999999",
         "42.8874927",
         "-88.0075875",
         "43.0494572",
         "[datetime.datetime(2025, 1, 1, 0, 0)]",
         "0",
         "0",
         "0"
        ],
        [
         "9520",
         "Green Cove Springs",
         "United States",
         "various apartments haunted complex originally built military housing back thirties cemetery site middle complexes grounds military base closed green cove springs housing sold private owner years became slum 1997. new owner took apartment complex began restoring buildings back original glory many sightings apparitions shadows electrical charges air tenants report voices doors opening closing footsteps stairs apartments",
         "St. Jon's Landing Apartments",
         "Florida",
         "FL",
         "-81.6958442",
         "30.0092854",
         "-81.6781467",
         "29.9919085",
         "[datetime.datetime(1997, 1, 1, 0, 0)]",
         "1",
         "0",
         "0"
        ],
        [
         "10160",
         "Rapid City",
         "United States",
         "storage room haunted ghost called `` sparky '' .- march 2007 correction `` sparky '' well-known figure reportedly plays jokes theater snaps lights opens shuts doors rattling staff students former students thirties reported named sparky went freshmen steven 's reports sparky played tricks every time practicing concert messes sound system lights doors everything n't haunt storage room information please visit www.unexplainedresearch.com/media/rapid_citys_haunting_reputation.html",
         "Stevens High School",
         "South Dakota",
         "SD",
         "-103.2893419",
         "44.0750214",
         "-103.2310149",
         "44.0805434",
         "[datetime.datetime(2007, 3, 1, 0, 0)]",
         "1",
         "0",
         "0"
        ]
       ],
       "shape": {
        "columns": 14,
        "rows": 5
       }
      },
      "text/html": [
       "<div>\n",
       "<style scoped>\n",
       "    .dataframe tbody tr th:only-of-type {\n",
       "        vertical-align: middle;\n",
       "    }\n",
       "\n",
       "    .dataframe tbody tr th {\n",
       "        vertical-align: top;\n",
       "    }\n",
       "\n",
       "    .dataframe thead th {\n",
       "        text-align: right;\n",
       "    }\n",
       "</style>\n",
       "<table border=\"1\" class=\"dataframe\">\n",
       "  <thead>\n",
       "    <tr style=\"text-align: right;\">\n",
       "      <th></th>\n",
       "      <th>city</th>\n",
       "      <th>country</th>\n",
       "      <th>description</th>\n",
       "      <th>location</th>\n",
       "      <th>state</th>\n",
       "      <th>state_abbrev</th>\n",
       "      <th>longitude</th>\n",
       "      <th>latitude</th>\n",
       "      <th>city_longitude</th>\n",
       "      <th>city_latitude</th>\n",
       "      <th>Haunted_Places_Date</th>\n",
       "      <th>Datefinder_Extracts</th>\n",
       "      <th>Two_Digit_Extracts</th>\n",
       "      <th>Four_Digit_Extracts</th>\n",
       "    </tr>\n",
       "  </thead>\n",
       "  <tbody>\n",
       "    <tr>\n",
       "      <th>1212</th>\n",
       "      <td>Sonoma</td>\n",
       "      <td>United States</td>\n",
       "      <td>old theatre houses spirit young girl aged anyw...</td>\n",
       "      <td>Sebastianni Theatre</td>\n",
       "      <td>California</td>\n",
       "      <td>CA</td>\n",
       "      <td>-122.456544</td>\n",
       "      <td>38.292285</td>\n",
       "      <td>-122.458036</td>\n",
       "      <td>38.291859</td>\n",
       "      <td>[2025-10-20 00:00:00]</td>\n",
       "      <td>1</td>\n",
       "      <td>0</td>\n",
       "      <td>0</td>\n",
       "    </tr>\n",
       "    <tr>\n",
       "      <th>2731</th>\n",
       "      <td>Kern County/ Bakersfield</td>\n",
       "      <td>United States</td>\n",
       "      <td>woman dressed flowing gown somewhat like ones ...</td>\n",
       "      <td>Lerdo Highway</td>\n",
       "      <td>California</td>\n",
       "      <td>CA</td>\n",
       "      <td>-119.116957</td>\n",
       "      <td>35.499621</td>\n",
       "      <td>-119.018713</td>\n",
       "      <td>35.373292</td>\n",
       "      <td>[1999-01-01 00:00:00]</td>\n",
       "      <td>1</td>\n",
       "      <td>0</td>\n",
       "      <td>0</td>\n",
       "    </tr>\n",
       "    <tr>\n",
       "      <th>6050</th>\n",
       "      <td>Wauwatosa</td>\n",
       "      <td>United States</td>\n",
       "      <td>mass unmarked graves found milwaukee county gr...</td>\n",
       "      <td>Potter's Field</td>\n",
       "      <td>Wisconsin</td>\n",
       "      <td>WI</td>\n",
       "      <td>-87.863272</td>\n",
       "      <td>42.887493</td>\n",
       "      <td>-88.007587</td>\n",
       "      <td>43.049457</td>\n",
       "      <td>[2025-01-01 00:00:00]</td>\n",
       "      <td>0</td>\n",
       "      <td>0</td>\n",
       "      <td>0</td>\n",
       "    </tr>\n",
       "    <tr>\n",
       "      <th>9520</th>\n",
       "      <td>Green Cove Springs</td>\n",
       "      <td>United States</td>\n",
       "      <td>various apartments haunted complex originally ...</td>\n",
       "      <td>St. Jon's Landing Apartments</td>\n",
       "      <td>Florida</td>\n",
       "      <td>FL</td>\n",
       "      <td>-81.695844</td>\n",
       "      <td>30.009285</td>\n",
       "      <td>-81.678147</td>\n",
       "      <td>29.991909</td>\n",
       "      <td>[1997-01-01 00:00:00]</td>\n",
       "      <td>1</td>\n",
       "      <td>0</td>\n",
       "      <td>0</td>\n",
       "    </tr>\n",
       "    <tr>\n",
       "      <th>10160</th>\n",
       "      <td>Rapid City</td>\n",
       "      <td>United States</td>\n",
       "      <td>storage room haunted ghost called `` sparky ''...</td>\n",
       "      <td>Stevens High School</td>\n",
       "      <td>South Dakota</td>\n",
       "      <td>SD</td>\n",
       "      <td>-103.289342</td>\n",
       "      <td>44.075021</td>\n",
       "      <td>-103.231015</td>\n",
       "      <td>44.080543</td>\n",
       "      <td>[2007-03-01 00:00:00]</td>\n",
       "      <td>1</td>\n",
       "      <td>0</td>\n",
       "      <td>0</td>\n",
       "    </tr>\n",
       "  </tbody>\n",
       "</table>\n",
       "</div>"
      ],
      "text/plain": [
       "                           city        country  \\\n",
       "1212                     Sonoma  United States   \n",
       "2731   Kern County/ Bakersfield  United States   \n",
       "6050                  Wauwatosa  United States   \n",
       "9520         Green Cove Springs  United States   \n",
       "10160                Rapid City  United States   \n",
       "\n",
       "                                             description  \\\n",
       "1212   old theatre houses spirit young girl aged anyw...   \n",
       "2731   woman dressed flowing gown somewhat like ones ...   \n",
       "6050   mass unmarked graves found milwaukee county gr...   \n",
       "9520   various apartments haunted complex originally ...   \n",
       "10160  storage room haunted ghost called `` sparky ''...   \n",
       "\n",
       "                           location         state state_abbrev   longitude  \\\n",
       "1212            Sebastianni Theatre    California           CA -122.456544   \n",
       "2731                  Lerdo Highway    California           CA -119.116957   \n",
       "6050                 Potter's Field     Wisconsin           WI  -87.863272   \n",
       "9520   St. Jon's Landing Apartments       Florida           FL  -81.695844   \n",
       "10160           Stevens High School  South Dakota           SD -103.289342   \n",
       "\n",
       "        latitude  city_longitude  city_latitude    Haunted_Places_Date  \\\n",
       "1212   38.292285     -122.458036      38.291859  [2025-10-20 00:00:00]   \n",
       "2731   35.499621     -119.018713      35.373292  [1999-01-01 00:00:00]   \n",
       "6050   42.887493      -88.007587      43.049457  [2025-01-01 00:00:00]   \n",
       "9520   30.009285      -81.678147      29.991909  [1997-01-01 00:00:00]   \n",
       "10160  44.075021     -103.231015      44.080543  [2007-03-01 00:00:00]   \n",
       "\n",
       "       Datefinder_Extracts  Two_Digit_Extracts  Four_Digit_Extracts  \n",
       "1212                     1                   0                    0  \n",
       "2731                     1                   0                    0  \n",
       "6050                     0                   0                    0  \n",
       "9520                     1                   0                    0  \n",
       "10160                    1                   0                    0  "
      ]
     },
     "execution_count": 4,
     "metadata": {},
     "output_type": "execute_result"
    }
   ],
   "source": [
    "df[df['description'].str.contains('thirties', na=False)]"
   ]
  },
  {
   "cell_type": "code",
   "execution_count": 5,
   "metadata": {},
   "outputs": [
    {
     "data": {
      "text/plain": [
       "[datetime.datetime(1997, 1, 1, 0, 0)]"
      ]
     },
     "execution_count": 5,
     "metadata": {},
     "output_type": "execute_result"
    }
   ],
   "source": [
    "df.loc[9520, \"Haunted_Places_Date\"]"
   ]
  },
  {
   "cell_type": "markdown",
   "metadata": {},
   "source": [
    "### Report and Save"
   ]
  },
  {
   "cell_type": "code",
   "execution_count": 6,
   "metadata": {},
   "outputs": [
    {
     "name": "stdout",
     "output_type": "stream",
     "text": [
      "------------------------------------------------------------------------------------------------------------------------------------------------------ Extraction Completed ------------------------------------------------------------------------------------------------------------------------------------------------------\n",
      "Extraction Took: 9.514057 seconds\n",
      "\n",
      "Datefinder: 5817 dates extracted\n",
      "Two_Digit: 94 dates extracted\n",
      "Four_Digit: 0 dates extracted\n",
      "Total: 5911 dates extracted\n",
      "multi-date entries: 421\n",
      "\n",
      "Old Dataframe Shape: (10992, 14) -> New DataFrame Shape: (12871, 14)\n",
      "------------------------------------------------------------------------------------------------------------------------------------------------------\n"
     ]
    }
   ],
   "source": [
    "## Printout Report ##\n",
    "print(\"-\" * 150, \"Extraction Completed\", \"-\" * 150)\n",
    "print(f\"Extraction Took: {end - start:.6f} seconds\", end = \"\\n\\n\")\n",
    "print(\"\\n\".join([f\"{extract_str[0]}: {extract_str[1]} dates extracted\" for extract_str in extract_printout]))\n",
    "print(f\"multi-date entries: {len(multi_date_entries)}\", end = \"\\n\\n\")\n",
    "print(f\"Old Dataframe Shape: {df.shape} -> New DataFrame Shape: {exploded_df.shape}\")\n",
    "print(\"-\" * 150)"
   ]
  }
 ],
 "metadata": {
  "kernelspec": {
   "display_name": "base",
   "language": "python",
   "name": "python3"
  },
  "language_info": {
   "codemirror_mode": {
    "name": "ipython",
    "version": 3
   },
   "file_extension": ".py",
   "mimetype": "text/x-python",
   "name": "python",
   "nbconvert_exporter": "python",
   "pygments_lexer": "ipython3",
   "version": "3.12.9"
  }
 },
 "nbformat": 4,
 "nbformat_minor": 2
}
