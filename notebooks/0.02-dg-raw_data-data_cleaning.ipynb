{
 "cells": [
  {
   "cell_type": "markdown",
   "metadata": {},
   "source": [
    "# **Data PreProcessing**\n",
    "Preprocessing data before extracting haunted features. \n",
    "\n",
    "Descriptions Parsed using [tika](https://github.com/chrismattmann/tika-python) and [org.apache.tika.parser.DefaultParser]\n",
    "\n"
   ]
  },
  {
   "cell_type": "markdown",
   "metadata": {},
   "source": [
    "## **Clean Stop Words and Punctuation**\n",
    "We found that datefinder and number parser work best when strings are cleaned of stopwords.\n",
    "\n",
    "1. Stopwords cleaned using [natural_language_toolkit_python](https://www.nltk.org/)\n",
    "    - Stopword Set: nltk.corpus.stopwords\n",
    "2. Punctuations removed using python [string_module](https://docs.python.org/3/library/string.html)\n",
    "    - Punctuation Set: {!\"#$%&'()*+,-./:;<=>?@[\\]^_`{|}~.}\n"
   ]
  },
  {
   "cell_type": "code",
   "execution_count": null,
   "metadata": {},
   "outputs": [],
   "source": [
    "import tika as tk\n",
    "from tika import parser\n",
    "import pandas as pd\n",
    "\n",
    "## Extract Text from File ##\n",
    "\n",
    "def extract_text(file):\n",
    "    # Parse the CSV file\n",
    "    parsed_data = tk.parser.from_file(file)\n",
    "\n",
    "    # Extract Text \n",
    "    csv_text = parsed_data[\"content\"]\n",
    "    # Print Metadata\n",
    "    print(parsed_data[\"metadata\"])\n",
    "\n",
    "    return csv_text\n",
    "\n",
    "extracted_text = extract_text(\"../data/raw/haunted_places.tab\")\n",
    "extracted_text_list = extracted_text.split(\"\\t\")\n",
    "\n",
    "## Read DataFrame Using Pandas to Get Column Index ##\n",
    "df = pd.read_csv(\"../data/raw/haunted_places.tab\", delimiter = \"\\t\") \n",
    "headers = df.columns.tolist()\n",
    "column_idx = headers.index(\"description\") + 1\n",
    "num_rows = df.shape[0]\n",
    "\n",
    "## Extract Descriptions from List, Set all Chars to Lowercase ##\n",
    "extracted_descriptions = [extracted_text_list[column_idx + i * len(headers)] for i in range(1,num_rows + 1)]\n",
    "extracted_descriptions = list(map(lambda x : x.lower().strip(), extracted_descriptions))"
   ]
  },
  {
   "cell_type": "code",
   "execution_count": 74,
   "metadata": {},
   "outputs": [
    {
     "name": "stderr",
     "output_type": "stream",
     "text": [
      "[nltk_data] Downloading package stopwords to\n",
      "[nltk_data]     /Users/dgottschalk/nltk_data...\n",
      "[nltk_data]   Package stopwords is already up-to-date!\n",
      "[nltk_data] Downloading package punkt to\n",
      "[nltk_data]     /Users/dgottschalk/nltk_data...\n",
      "[nltk_data]   Package punkt is already up-to-date!\n"
     ]
    }
   ],
   "source": [
    "import nltk\n",
    "from nltk.tokenize import word_tokenize\n",
    "from nltk.corpus import stopwords\n",
    "import string\n",
    "\n",
    "## Download StopWords and Tokenizer ##\n",
    "nltk.download('stopwords')\n",
    "nltk.download('punkt')\n",
    "\n",
    "stop_words = set(stopwords.words(\"english\"))\n",
    "\n",
    "## Keep \"I\" and \"We\" for witness feature ##\n",
    "stop_words.discard('i')\n",
    "stop_words.discard('we')\n",
    "# stop_words.discard('me')\n",
    "\n",
    "## init Clean Descriptions ##\n",
    "cleaned_descriptions = []\n",
    "df_out = df.copy()\n",
    "\n",
    "for i in range(len(extracted_descriptions)):\n",
    "    description = extracted_descriptions[i]\n",
    "    \n",
    "    ## Only Add Non-Stopwords and Non-Punctuation Tokens ##\n",
    "    ## Keeping Periods ##\n",
    "    description = \" \".join([word.lower().strip() for word in word_tokenize(description.replace('.', '. ')) if (word not in stop_words) and (word not in string.punctuation.replace('.',''))])\n",
    "\n",
    "    ## Write Cleaned Description To df_out ##\n",
    "    df_out.iloc[i, column_idx - 1] = description\n",
    "\n",
    "\n",
    "## Fill NAN Values ##\n",
    "df_out[\"description\"] = df_out[\"description\"].fillna(\"Invalid_Description\").astype(str)\n",
    "\n",
    "# Removing Invalid Descriptions ##\n",
    "df_out.drop(1063, inplace = True)\n",
    "\n",
    "## Saving ##\n",
    "df_out.to_csv(\"../data/processed/haunted_places_cleaned.tab\", index = False, header = True, sep = \"\\t\")"
   ]
  }
 ],
 "metadata": {
  "kernelspec": {
   "display_name": "base",
   "language": "python",
   "name": "python3"
  },
  "language_info": {
   "codemirror_mode": {
    "name": "ipython",
    "version": 3
   },
   "file_extension": ".py",
   "mimetype": "text/x-python",
   "name": "python",
   "nbconvert_exporter": "python",
   "pygments_lexer": "ipython3",
   "version": "3.12.9"
  }
 },
 "nbformat": 4,
 "nbformat_minor": 2
}
