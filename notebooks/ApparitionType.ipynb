{
  "nbformat": 4,
  "nbformat_minor": 0,
  "metadata": {
    "colab": {
      "provenance": [],
      "authorship_tag": "ABX9TyM6rHwg8vROr74ibg4E1ysA",
      "include_colab_link": true
    },
    "kernelspec": {
      "name": "python3",
      "display_name": "Python 3"
    },
    "language_info": {
      "name": "python"
    }
  },
  "cells": [
    {
      "cell_type": "markdown",
      "metadata": {
        "id": "view-in-github",
        "colab_type": "text"
      },
      "source": [
        "<a href=\"https://colab.research.google.com/github/dgottschalk03/dsci_550_a1/blob/main/ApparitionType.ipynb\" target=\"_parent\"><img src=\"https://colab.research.google.com/assets/colab-badge.svg\" alt=\"Open In Colab\"/></a>"
      ]
    },
    {
      "cell_type": "markdown",
      "source": [
        "1.05: Apparition Type"
      ],
      "metadata": {
        "id": "q-JAt5nn348q"
      }
    },
    {
      "cell_type": "markdown",
      "source": [
        "**Apparition Type:**\n",
        "*   Used chatgpt to generate apparition keyword patterns with varying tenses\n",
        "\n",
        "\n"
      ],
      "metadata": {
        "id": "q4uUWKMc3Vyt"
      }
    },
    {
      "cell_type": "code",
      "source": [
        "import pandas as pd\n",
        "import re\n",
        "import time"
      ],
      "metadata": {
        "id": "Jv8HGaxS3SZh"
      },
      "execution_count": 1,
      "outputs": []
    },
    {
      "cell_type": "code",
      "execution_count": 4,
      "metadata": {
        "colab": {
          "base_uri": "https://localhost:8080/"
        },
        "id": "ehGYts9g2yuG",
        "outputId": "6bc8219d-1cf5-4b1c-d0fe-7ecebb1afca4"
      },
      "outputs": [
        {
          "output_type": "stream",
          "name": "stdout",
          "text": [
            "---------------------------------------------------------------------------------------------------- Extraction Completed ----------------------------------------------------------------------------------------------------\n",
            "Extraction Took: 1.464743 seconds\n",
            "\n",
            "Unknown: 7644\n",
            "Ghost: 2018\n",
            "Spirit: 630\n",
            "Orb: 249\n",
            "Ghost, Spirit: 170\n",
            "Phantom: 50\n",
            "Ghost, Orb: 47\n",
            "Female Ghost, Ghost: 23\n",
            "Ghost, Phantom: 23\n",
            "Orb, Spirit: 23\n",
            "Demon: 22\n",
            "Ghost, Male Ghost: 18\n",
            "Evil Presence: 12\n",
            "Demon, Spirit: 9\n",
            "Floating Light: 8\n",
            "Ghost, Orb, Spirit: 6\n",
            "Phantom, Spirit: 4\n",
            "UFO: 4\n",
            "Female Ghost, Ghost, Spirit: 4\n",
            "Ghost, Girl Ghost: 4\n",
            "Ghost, Male Apparition: 2\n",
            "Floating Light, Ghost: 2\n",
            "Ghost, UFO: 2\n",
            "Demon, Ghost, Orb: 2\n",
            "Demon, Ghost: 2\n",
            "Evil Presence, Ghost: 1\n",
            "Ghost, Phantom, Spirit: 1\n",
            "Child Ghost, Ghost: 1\n",
            "Evil Presence, Spirit: 1\n",
            "Ghost, Male Ghost, Spirit: 1\n",
            "Male Apparition: 1\n",
            "Demon, Evil Presence: 1\n",
            "Ghost, Orb, Phantom: 1\n",
            "Orb, Phantom: 1\n",
            "Lady Spirit, Spirit: 1\n",
            "Female Ghost, Ghost, Phantom: 1\n",
            "Demon, Phantom: 1\n",
            "Female Ghost, Ghost, Girl Ghost: 1\n",
            "Female Ghost, Ghost, Orb: 1\n",
            "----------------------------------------------------------------------------------------------------\n"
          ]
        }
      ],
      "source": [
        "# Load dataset\n",
        "df = pd.read_csv(\"haunted_places.tab\", sep=\"\\t\")\n",
        "\n",
        "# Define apparition keyword patterns with varying tenses\n",
        "apparition_patterns = {\n",
        "    \"Ghost\": r\"ghost(?:s)?\",\n",
        "    \"Spirit\": r\"spirit(?:s)?\",\n",
        "    \"Phantom\": r\"phantom(?:s)?\",\n",
        "    \"Male Ghost\": r\"(?:male|man)\\s+ghost(?:s)?\",\n",
        "    \"Male Apparition\": r\"male\\s+apparition(?:s)?\",\n",
        "    \"Female Ghost\": r\"(?:female|woman)\\s+ghost(?:s)?\",\n",
        "    \"Lady Spirit\": r\"lady\\s+spirit(?:s)?\",\n",
        "    \"Child Ghost\": r\"child\\s+ghost(?:s)?\",\n",
        "    \"Boy Spirit\": r\"boy\\s+spirit(?:s)?\",\n",
        "    \"Girl Ghost\": r\"girl\\s+ghost(?:s)?\",\n",
        "    \"Young Apparition\": r\"young\\s+apparition(?:s)?\",\n",
        "    \"Orb\": r\"orb(?:s)?\",\n",
        "    \"Floating Light\": r\"floating\\s+light(?:s)?\",\n",
        "    \"UFO\": r\"ufo(?:s)?\",\n",
        "    \"Unidentified Flying Object\": r\"unidentified\\s+flying\\s+object(?:s)?\",\n",
        "    \"UAP\": r\"uap(?:s)?\",\n",
        "    \"Demon\": r\"demon(?:s)?\",\n",
        "    \"Evil Presence\": r\"evil\\s+presence(?:s)?\",\n",
        "    \"Dark Entity\": r\"dark\\s+entity(?:s)?\"\n",
        "}\n",
        "\n",
        "def classify_apparition(text):\n",
        "    if not isinstance(text, str):\n",
        "        return \"Unknown\"\n",
        "\n",
        "    text = text.lower()\n",
        "    matched_types = set()\n",
        "\n",
        "    # Check every keyword pattern in description\n",
        "    for label, pattern in apparition_patterns.items():\n",
        "        # Use word boundaries\n",
        "        if re.search(rf\"\\b{pattern}\\b\", text):\n",
        "            matched_types.add(label)\n",
        "\n",
        "    if not matched_types:\n",
        "        return \"Unknown\"\n",
        "\n",
        "    # Return all matched types as a comma-separated string\n",
        "    return \", \".join(sorted(matched_types))\n",
        "\n",
        "# Start timing\n",
        "start = time.time()\n",
        "\n",
        "# Apply classification to  \"description\" column.\n",
        "df[\"Apparition Type\"] = df[\"description\"].apply(classify_apparition)\n",
        "\n",
        "# Stop timing\n",
        "end = time.time()\n",
        "\n",
        "# Count occurrences\n",
        "counts = df[\"Apparition Type\"].value_counts()\n",
        "unknown_counts = counts.get(\"Unknown\", 0)\n",
        "\n",
        "extract_printout = [(category, count) for category, count in counts.items()]\n",
        "print(\"-\" * 100, \"Extraction Completed\", \"-\" * 100)\n",
        "print(f\"Extraction Took: {end - start:.6f} seconds\\n\")\n",
        "print(\"\\n\".join([f\"{category}: {count}\" for category, count in extract_printout]))\n",
        "print(\"-\" * 100)\n"
      ]
    }
  ]
}
