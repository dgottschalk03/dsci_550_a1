{
 "cells": [
  {
   "cell_type": "markdown",
   "metadata": {},
   "source": [
    "# 1.04 - Witness Feature Extraction\n",
    "## **Haunted Places Witness Count**\n",
    "\n",
    "Numbers extacted using [numberscraper](https://github.com/scrapinghub/number-parser)\n",
    "\n",
    "**\"Haunted_Places_Witness_Count\" [datetime]**\n",
    "- Format: int\n",
    "- Default Value: 0\n",
    "\n",
    "**NOTES**:\n",
    "\n",
    "- Note\n",
    "\n",
    "    "
   ]
  },
  {
   "cell_type": "code",
   "execution_count": null,
   "metadata": {},
   "outputs": [],
   "source": [
    "import pandas as pd\n",
    "import datefinder\n",
    "import datetime\n",
    "import time\n",
    "import re\n",
    "from number_parser import parse_ordinal\n",
    "from number_parser import parse_number\n",
    "from number_parser import parse\n",
    "import tika as tk\n",
    "from tika import parser\n",
    "\n",
    "# Reading CSV\n",
    "df = pd.read_csv(\"../data/processed/haunted_places.tab\", sep = \"\\t\")"
   ]
  },
  {
   "cell_type": "code",
   "execution_count": null,
   "metadata": {},
   "outputs": [],
   "source": [
    "headers = df.columns.tolist()\n",
    "num_rows = df.shape[0]\n",
    "column_number = headers.index(\"description\") + 1"
   ]
  },
  {
   "cell_type": "code",
   "execution_count": null,
   "metadata": {},
   "outputs": [],
   "source": [
    "def extract_eyewitness(text):\n",
    "    return parse(text)"
   ]
  },
  {
   "cell_type": "code",
   "execution_count": 127,
   "metadata": {},
   "outputs": [],
   "source": [
    "def extract_text(file):\n",
    "    # Parse the CSV file\n",
    "    parsed_data = tk.parser.from_file(file)\n",
    "\n",
    "    # Extract text content\n",
    "    csv_text = parsed_data[\"content\"]\n",
    "    return csv_text\n",
    "\n",
    "extracted_text = extract_text(\"../data/processed/haunted_places.tab\")\n",
    "extracted_text_list = extracted_text.split(\"\\t\")\n",
    "\n",
    "extracted_descriptions = [extracted_text_list[column_number + i * len(headers)] for i in range(1,num_rows + 1)]\n",
    "extracted_descriptions = list(map(lambda x : x.lower().strip(), extracted_descriptions))"
   ]
  },
  {
   "cell_type": "code",
   "execution_count": 128,
   "metadata": {},
   "outputs": [],
   "source": [
    "import nltk\n",
    "from nltk.tokenize import word_tokenize\n",
    "from nltk.corpus import stopwords\n",
    "import string\n",
    "\n",
    "cleaned_descriptions = []\n",
    "\n",
    "stop_words = set(stopwords.words(\"english\"))\n",
    "\n",
    "for i in range(len(extracted_descriptions)):\n",
    "    description = extracted_descriptions[i]\n",
    "\n",
    "    description = [word for word in word_tokenize(description) if (word not in stop_words) and (word not in string.punctuation)]\n",
    "    cleaned_descriptions.append(description)\n"
   ]
  },
  {
   "cell_type": "code",
   "execution_count": 149,
   "metadata": {},
   "outputs": [
    {
     "name": "stdout",
     "output_type": "stream",
     "text": [
      "2025-01-10 00:00:00\n"
     ]
    }
   ],
   "source": [
    "import datefinder\n",
    "import datetime\n",
    "\n",
    "for match in datefinder.find_dates(\" \".join(cleaned_descriptions[28])):\n",
    "    print(match)"
   ]
  },
  {
   "cell_type": "code",
   "execution_count": 155,
   "metadata": {},
   "outputs": [
    {
     "name": "stdout",
     "output_type": "stream",
     "text": [
      "various apartments haunted complex originally built military housing back thirties cemetery site middle complexes grounds military base closed green cove springs housing sold private owner years became slum 1997. new owner took apartment complex began restoring buildings back original glory many sightings apparitions shadows electrical charges air tenants report voices doors opening closing footsteps stairs apartments\n"
     ]
    }
   ],
   "source": [
    "print(\" \".join(cleaned_descriptions[9520]))"
   ]
  },
  {
   "cell_type": "code",
   "execution_count": 164,
   "metadata": {},
   "outputs": [
    {
     "data": {
      "text/plain": [
       "[datetime.datetime(1997, 2, 16, 0, 0)]"
      ]
     },
     "execution_count": 164,
     "metadata": {},
     "output_type": "execute_result"
    }
   ],
   "source": [
    "[date for date in  datefinder.find_dates(\" \".join(cleaned_descriptions[9520]))]\n"
   ]
  }
 ],
 "metadata": {
  "kernelspec": {
   "display_name": "base",
   "language": "python",
   "name": "python3"
  },
  "language_info": {
   "codemirror_mode": {
    "name": "ipython",
    "version": 3
   },
   "file_extension": ".py",
   "mimetype": "text/x-python",
   "name": "python",
   "nbconvert_exporter": "python",
   "pygments_lexer": "ipython3",
   "version": "3.12.9"
  }
 },
 "nbformat": 4,
 "nbformat_minor": 2
}
