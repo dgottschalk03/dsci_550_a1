{
 "cells": [
  {
   "cell_type": "markdown",
   "metadata": {},
   "source": [
    "# 1.04 - Witness Feature Extraction\n",
    "## **Haunted Places Witness Count**\n",
    "\n",
    "Numbers extacted using [numberscraper](https://github.com/scrapinghub/number-parser)\n",
    "\n",
    "**\"Haunted_Places_Witness_Count\" [datetime]**\n",
    "- Format: int\n",
    "- Default Value: 0\n",
    "\n",
    "**NOTES**:\n",
    "\n",
    "- Note\n",
    "\n",
    "    "
   ]
  },
  {
   "cell_type": "code",
   "execution_count": 1,
   "metadata": {},
   "outputs": [],
   "source": [
    "import pandas as pd\n",
    "import datefinder\n",
    "import datetime\n",
    "import time\n",
    "import re\n",
    "from number_parser import parse_ordinal\n",
    "from number_parser import parse_number\n",
    "from number_parser import parse\n",
    "\n",
    "\n",
    "# Reading CSV\n",
    "df = pd.read_csv(\"../data/processed/haunted_places.tab\", sep = \"\\t\")"
   ]
  },
  {
   "cell_type": "code",
   "execution_count": 2,
   "metadata": {},
   "outputs": [],
   "source": [
    "def extract_eyewitness(text):\n",
    "    return parse(text)"
   ]
  }
 ],
 "metadata": {
  "kernelspec": {
   "display_name": "base",
   "language": "python",
   "name": "python3"
  },
  "language_info": {
   "codemirror_mode": {
    "name": "ipython",
    "version": 3
   },
   "file_extension": ".py",
   "mimetype": "text/x-python",
   "name": "python",
   "nbconvert_exporter": "python",
   "pygments_lexer": "ipython3",
   "version": "3.12.9"
  }
 },
 "nbformat": 4,
 "nbformat_minor": 2
}
