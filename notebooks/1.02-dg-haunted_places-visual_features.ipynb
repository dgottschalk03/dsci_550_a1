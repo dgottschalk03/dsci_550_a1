{
 "cells": [
  {
   "cell_type": "markdown",
   "metadata": {},
   "source": [
    "# **1.02 - Visual Feature Extraction**\n",
    "\n",
    "## **Visual Feature Extraction**\n",
    "\n",
    "Used keywords specified in **visual_keywords.txt**. \n",
    "\n",
    "Keywords generated with 2 queries to chatgpt:\n",
    " - \"could you generate a long list of verbs that are similar to \"saw\", \"viewed\", and \"spot\" in all tenses.\"\n",
    " - \"could you generate a long list of nouns similar to \"picture\" \"images\" \"drawings\" etc\"\n",
    " \n",
    "**\"Visual Evidence\" [bool]**\n",
    "- True - visual evidence in description\n",
    "    - example True flag {index: 53}: *'Many people claim to see a light come out of river and chase their vehicle to the end of the road'*\n",
    "- False - otherwise\n",
    "    - example False flag {index: 4}: *'Kappa Delta Sorority - The Kappa Delta Sorority is haunted by an entity simply known as \\'P\\'. It is said she was a sister there who died in a car accident. Current sisters there have reported hearing giggling and running around coming from the upstairs floor while they are in the basement. At one time a sister called out to \"P\" and received a \"hello\" in reply.'*"
   ]
  },
  {
   "cell_type": "markdown",
   "metadata": {},
   "source": [
    "### Feature Extraction"
   ]
  },
  {
   "cell_type": "code",
   "execution_count": 2,
   "metadata": {},
   "outputs": [],
   "source": [
    "import pandas as pd\n",
    "import re \n",
    "import time\n",
    "\n",
    "# Reading CSV\n",
    "df = pd.read_csv(\"../data/processed/haunted_places_cleaned.tab\", sep = \"\\t\")\n",
    "\n",
    "# Define Visual Keyword List\n",
    "visual_keywords = open('../data/keywords/visual_keywords.txt', 'r').read().split(',')\n",
    "def contains_visual_keywords(text):\n",
    "    if isinstance(text, str):\n",
    "        for keyword in visual_keywords:\n",
    "            if re.search(keyword, text, re.IGNORECASE):\n",
    "                return True  \n",
    "    return False\n",
    "\n",
    "start = time.time()\n",
    "df[\"Visual_Evidence\"] = df[\"description\"].apply(contains_visual_keywords)\n",
    "end = time.time()\n"
   ]
  },
  {
   "cell_type": "markdown",
   "metadata": {},
   "source": [
    "### Post Processing"
   ]
  },
  {
   "cell_type": "code",
   "execution_count": 3,
   "metadata": {},
   "outputs": [],
   "source": [
    "counts = df[\"Visual_Evidence\"].value_counts()\n",
    "true_counts = counts.get(True, 0)\n",
    "false_counts = counts.get(False, 0)\n",
    "\n",
    "extract_printout = [(\"True Counts\", true_counts), \n",
    "                    (\"False Counts\", false_counts)]"
   ]
  },
  {
   "cell_type": "markdown",
   "metadata": {},
   "source": [
    "### Report and Save"
   ]
  },
  {
   "cell_type": "code",
   "execution_count": 5,
   "metadata": {},
   "outputs": [
    {
     "name": "stdout",
     "output_type": "stream",
     "text": [
      "------------------------------------------------------------------------------------------------------------------------------------------------------ Extraction Completed ------------------------------------------------------------------------------------------------------------------------------------------------------\n",
      "Extraction Took: 0.967445 seconds\n",
      "\n",
      "True Counts: 6949\n",
      "False Counts: 4043\n",
      "------------------------------------------------------------------------------------------------------------------------------------------------------\n"
     ]
    }
   ],
   "source": [
    "## Printout Report ##\n",
    "print(\"-\" * 150, \"Extraction Completed\", \"-\" * 150)\n",
    "print(f\"Extraction Took: {end - start:.6f} seconds\", end = \"\\n\\n\")\n",
    "print(\"\\n\".join([f\"{extract_str[0]}: {extract_str[1]}\" for extract_str in extract_printout]))\n",
    "print(\"-\" * 150)"
   ]
  }
 ],
 "metadata": {
  "kernelspec": {
   "display_name": "base",
   "language": "python",
   "name": "python3"
  },
  "language_info": {
   "codemirror_mode": {
    "name": "ipython",
    "version": 3
   },
   "file_extension": ".py",
   "mimetype": "text/x-python",
   "name": "python",
   "nbconvert_exporter": "python",
   "pygments_lexer": "ipython3",
   "version": "3.12.9"
  }
 },
 "nbformat": 4,
 "nbformat_minor": 2
}
