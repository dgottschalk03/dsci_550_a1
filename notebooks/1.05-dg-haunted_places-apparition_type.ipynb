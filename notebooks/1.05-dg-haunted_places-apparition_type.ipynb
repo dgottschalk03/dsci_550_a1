{
  "nbformat": 4,
  "nbformat_minor": 0,
  "metadata": {
    "colab": {
      "provenance": []
    },
    "kernelspec": {
      "name": "python3",
      "display_name": "Python 3"
    },
    "language_info": {
      "name": "python"
    }
  },
  "cells": [
    {
      "cell_type": "markdown",
      "source": [
        "1.05: Apparition Type"
      ],
      "metadata": {
        "id": "q-JAt5nn348q"
      }
    },
    {
      "cell_type": "markdown",
      "source": [
        "**Apparition Type:**\n",
        "*   Used keywords specified in apparition_type.txt\n",
        "*   Search for the following words: ghost, spirit, phantom, male ghost, man ghost, male apparition, female ghost, woman ghost, lady spirit, child ghost, boy spirit, girl ghost, young apparition, orb, floating light, ufo, unidentified flying object, uap, demon, evil presence, dark entity\n",
        "\n",
        "\n",
        "\n"
      ],
      "metadata": {
        "id": "q4uUWKMc3Vyt"
      }
    },
    {
      "cell_type": "code",
      "source": [
        "import pandas as pd\n",
        "import re\n",
        "import time"
      ],
      "metadata": {
        "id": "Jv8HGaxS3SZh"
      },
      "execution_count": null,
      "outputs": []
    },
    {
      "cell_type": "code",
      "execution_count": null,
      "metadata": {
        "colab": {
          "base_uri": "https://localhost:8080/"
        },
        "id": "ehGYts9g2yuG",
        "outputId": "a877e5da-ee79-45a8-887a-c630cbbe12a0"
      },
      "outputs": [
        {
          "output_type": "stream",
          "name": "stdout",
          "text": [
            "---------------------------------------------------------------------------------------------------- Extraction Completed ----------------------------------------------------------------------------------------------------\n",
            "Extraction Took: 1.634325 seconds\n",
            "\n",
            "Unknown: 8639\n",
            "Ghost: 1814\n",
            "Spirit: 401\n",
            "Phantom: 57\n",
            "Orb: 43\n",
            "Demon: 19\n",
            "Evil presence: 13\n",
            "Male apparition: 2\n",
            "Ufo: 2\n",
            "Floating light: 2\n",
            "----------------------------------------------------------------------------------------------------\n"
          ]
        }
      ],
      "source": [
        "# Load dataset\n",
        "df = pd.read_csv(\"haunted_places.tab\", sep=\"\\t\")\n",
        "\n",
        "# Load keywords from the file (all in one line)\n",
        "with open(\"apparition_keywords.txt\", \"r\") as f:\n",
        "    apparition_keywords = f.read().strip().split(\", \")\n",
        "\n",
        "# Function to classify apparition type\n",
        "def classify_apparition(text):\n",
        "    if not isinstance(text, str):\n",
        "        return \"Unknown\"\n",
        "\n",
        "    text = text.lower()\n",
        "\n",
        "    for keyword in apparition_keywords:\n",
        "        if re.search(rf\"\\b{keyword}\\b\", text, re.IGNORECASE):\n",
        "            return keyword.capitalize()  # Return the matched keyword as the category\n",
        "\n",
        "    return \"Unknown\"\n",
        "\n",
        "# Start timing\n",
        "start = time.time()\n",
        "\n",
        "# Apply classification\n",
        "df[\"Apparition Type\"] = df[\"description\"].apply(classify_apparition)\n",
        "\n",
        "# Stop timing\n",
        "end = time.time()\n",
        "\n",
        "# Count occurrences\n",
        "counts = df[\"Apparition Type\"].value_counts()\n",
        "unknown_counts = counts.get(\"Unknown\", 0)\n",
        "\n",
        "# Print report\n",
        "extract_printout = [(category, count) for category, count in counts.items()]\n",
        "print(\"-\" * 100, \"Extraction Completed\", \"-\" * 100)\n",
        "print(f\"Extraction Took: {end - start:.6f} seconds\\n\")\n",
        "print(\"\\n\".join([f\"{extract_str[0]}: {extract_str[1]}\" for extract_str in extract_printout]))\n",
        "print(\"-\" * 100)\n",
        "\n"
      ]
    }
  ]
}
