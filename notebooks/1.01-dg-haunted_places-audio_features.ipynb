{
 "cells": [
  {
   "cell_type": "markdown",
   "metadata": {},
   "source": [
    "# **1.01 - Audio Feature Extraction**\n",
    "\n",
    "Adding Features to haunted places dataset. \n",
    "\n",
    "Features added using Pandas and Regular Expressions."
   ]
  },
  {
   "cell_type": "markdown",
   "metadata": {},
   "source": [
    "## **Audio Feature Extraction**\n",
    "\n",
    "Used keywords specified in **audio_keywords.txt**. \n",
    "\n",
    "Keywords generated with 2 queries to chatgpt:\n",
    " - \"could you generate a long list of words that are similar to \"hear\", \"overheard\", \"hearing\", \"sound\", in all tenses.\"\n",
    " - \"could you generate more words similar to \"screams\" \"crying\" \"cries\" etc\"\n",
    " \n",
    "**\"Audio Evidence\" [bool]**\n",
    "- True - audio evidence in description\n",
    "    - example True {index: 2}: \"Others report seeing nothing at all but hearing the killer\\'s shouts of rage followed by the victims\\' screams of agony\"\n",
    "- False - otherwise\n",
    "    -\n"
   ]
  },
  {
   "cell_type": "markdown",
   "metadata": {},
   "source": [
    "### Feature Extraction"
   ]
  },
  {
   "cell_type": "code",
   "execution_count": null,
   "metadata": {},
   "outputs": [
    {
     "name": "stdout",
     "output_type": "stream",
     "text": [
      "      city        country                                        description  \\\n",
      "0      Ada  United States  ada witch sometimes see misty blue figure floa...   \n",
      "1  Addison  United States  little girl killed suddenly waiting school bus...   \n",
      "2   Adrian  United States  take gorman rd west towards sand creek come gr...   \n",
      "3   Adrian  United States  1970 's one room room 211 old section dorms ex...   \n",
      "4   Albion  United States  kappa delta sorority kappa delta sorority haun...   \n",
      "\n",
      "                   location     state state_abbrev  longitude   latitude  \\\n",
      "0              Ada Cemetery  Michigan           MI -85.504893  42.962106   \n",
      "1           North Adams Rd.  Michigan           MI -84.381843  41.971425   \n",
      "2             Ghost Trestle  Michigan           MI -84.035656  41.904538   \n",
      "3  Siena Heights University  Michigan           MI -84.017565  41.905712   \n",
      "4            Albion College  Michigan           MI -84.745177  42.244006   \n",
      "\n",
      "   city_longitude  city_latitude  \n",
      "0      -85.495480      42.960727  \n",
      "1      -84.347168      41.986434  \n",
      "2      -84.037166      41.897547  \n",
      "3      -84.037166      41.897547  \n",
      "4      -84.753030      42.243097  \n"
     ]
    },
    {
     "data": {
      "text/plain": [
       "Audio_Evidence\n",
       "True     5595\n",
       "False    5397\n",
       "Name: count, dtype: int64"
      ]
     },
     "execution_count": 10,
     "metadata": {},
     "output_type": "execute_result"
    }
   ],
   "source": [
    "import pandas as pd\n",
    "import re \n",
    "import time\n",
    "\n",
    "\n",
    "# Reading CSV\n",
    "df = pd.read_csv(\"../data/processed/haunted_places_cleaned.tab\", sep = \"\\t\")\n",
    "\n",
    "# Define Audio Keyword List\n",
    "audio_keywords = open(f'../data/keywords/audio_keywords.txt', 'r').read().split(',')\n",
    "\n",
    "def contains_audio_keywords(text):\n",
    "    if isinstance(text, str):\n",
    "        for keyword in audio_keywords:\n",
    "            if re.search(keyword, text, re.IGNORECASE):\n",
    "                return True  \n",
    "    return False\n",
    "\n",
    "start = time.time()\n",
    "df[\"Audio_Evidence\"] = df[\"description\"].apply(contains_audio_keywords)\n",
    "end = time.time()\n",
    "\n",
    "df['Audio_Evidence'].value_counts()"
   ]
  },
  {
   "cell_type": "markdown",
   "metadata": {},
   "source": [
    "### Post Processing"
   ]
  },
  {
   "cell_type": "code",
   "execution_count": 13,
   "metadata": {},
   "outputs": [],
   "source": [
    "counts = df[\"Audio_Evidence\"].value_counts()\n",
    "true_counts = counts.get(True, 0)\n",
    "false_counts = counts.get(False, 0)\n",
    "\n",
    "extract_printout = [\n",
    "    (\"True Counts\", true_counts), \n",
    "    (\"False Counts\", false_counts)]"
   ]
  },
  {
   "cell_type": "markdown",
   "metadata": {},
   "source": [
    "### Report and Save"
   ]
  },
  {
   "cell_type": "code",
   "execution_count": 14,
   "metadata": {},
   "outputs": [
    {
     "name": "stdout",
     "output_type": "stream",
     "text": [
      "------------------------------------------------------------------------------------------------------------------------------------------------------ Extraction Completed ------------------------------------------------------------------------------------------------------------------------------------------------------\n",
      "Extraction Took: 1.823930 seconds\n",
      "\n",
      "True Counts: 5595\n",
      "False Counts: 5397\n",
      "------------------------------------------------------------------------------------------------------------------------------------------------------\n"
     ]
    }
   ],
   "source": [
    "## Printout Report ##\n",
    "print(\"-\" * 150, \"Extraction Completed\", \"-\" * 150)\n",
    "print(f\"Extraction Took: {end - start:.6f} seconds\", end = \"\\n\\n\")\n",
    "print(\"\\n\".join([f\"{extract_str[0]}: {extract_str[1]}\" for extract_str in extract_printout]))\n",
    "print(\"-\" * 150)"
   ]
  }
 ],
 "metadata": {
  "kernelspec": {
   "display_name": "base",
   "language": "python",
   "name": "python3"
  },
  "language_info": {
   "codemirror_mode": {
    "name": "ipython",
    "version": 3
   },
   "file_extension": ".py",
   "mimetype": "text/x-python",
   "name": "python",
   "nbconvert_exporter": "python",
   "pygments_lexer": "ipython3",
   "version": "3.12.9"
  }
 },
 "nbformat": 4,
 "nbformat_minor": 2
}
