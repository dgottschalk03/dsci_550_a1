{
 "cells": [
  {
   "cell_type": "markdown",
   "metadata": {},
   "source": [
    "# **1.01 - Audio Feature Extraction**\n",
    "\n",
    "Adding Features to haunted places dataset. \n",
    "\n",
    "Features added using Pandas and Regular Expressions."
   ]
  },
  {
   "cell_type": "markdown",
   "metadata": {},
   "source": [
    "## **Audio Feature Extraction**\n",
    "\n",
    "Used keywords specified in **audio_keywords.txt**. \n",
    "\n",
    "Keywords generated with 2 queries to chatgpt:\n",
    " - \"could you generate a long list of words that are similar to \"hear\", \"overheard\", \"hearing\", \"sound\", in all tenses.\"\n",
    " - \"could you generate more words similar to \"screams\" \"crying\" \"cries\" etc\"\n",
    " \n",
    "**\"Audio Evidence\" [bool]**\n",
    "- True - audio evidence in description\n",
    "    - example True {index: 2}: \"Others report seeing nothing at all but hearing the killer\\'s shouts of rage followed by the victims\\' screams of agony\"\n",
    "- False - otherwise\n",
    "    -\n"
   ]
  },
  {
   "cell_type": "code",
   "execution_count": 181,
   "metadata": {},
   "outputs": [
    {
     "data": {
      "text/plain": [
       "Audio_Evidence\n",
       "True     5615\n",
       "False    5377\n",
       "Name: count, dtype: int64"
      ]
     },
     "execution_count": 181,
     "metadata": {},
     "output_type": "execute_result"
    }
   ],
   "source": [
    "import pandas as pd\n",
    "import re \n",
    "\n",
    "\n",
    "# Reading CSV\n",
    "df = pd.read_csv(\"../data/processed/haunted_places.tab\", sep = \"\\t\")\n",
    "\n",
    "\n",
    "# Define Audio Keyword List\n",
    "audio_keywords = open(f'../data/keywords/audio_keywords.txt', 'r').read().split(',')\n",
    "\n",
    "\n",
    "def contains_audio_keywords(text):\n",
    "    if isinstance(text, str):\n",
    "        for keyword in audio_keywords:\n",
    "            if re.search(keyword, text, re.IGNORECASE):\n",
    "                return True  \n",
    "    return False\n",
    "\n",
    "df[\"Audio_Evidence\"] = df[\"description\"].apply(contains_audio_keywords)\n",
    "\n",
    "df['Audio_Evidence'].value_counts()"
   ]
  },
  {
   "cell_type": "markdown",
   "metadata": {},
   "source": [
    "## **Visual Feature Extraction**\n",
    "\n",
    "Used keywords specified in **visual_keywords.txt**. \n",
    "\n",
    "Keywords generated with 2 queries to chatgpt:\n",
    " - \"could you generate a long list of verbs that are similar to \"saw\", \"viewed\", and \"spot\" in all tenses.\"\n",
    " - \"could you generate a long list of nouns similar to \"picture\" \"images\" \"drawings\" etc\"\n",
    " \n",
    "**\"Visual Evidence\" [bool]**\n",
    "- True - visual evidence in description\n",
    "    - example True flag {index: 53}: *'Many people claim to see a light come out of river and chase their vehicle to the end of the road'*\n",
    "- False - otherwise\n",
    "    - example False flag {index: 4}: *'Kappa Delta Sorority - The Kappa Delta Sorority is haunted by an entity simply known as \\'P\\'. It is said she was a sister there who died in a car accident. Current sisters there have reported hearing giggling and running around coming from the upstairs floor while they are in the basement. At one time a sister called out to \"P\" and received a \"hello\" in reply.'*"
   ]
  },
  {
   "cell_type": "code",
   "execution_count": null,
   "metadata": {},
   "outputs": [
    {
     "data": {
      "text/plain": [
       "Visual_Evidence\n",
       "True     6949\n",
       "False    4043\n",
       "Name: count, dtype: int64"
      ]
     },
     "execution_count": 182,
     "metadata": {},
     "output_type": "execute_result"
    }
   ],
   "source": [
    "# Define Visual Keyword List\n",
    "visual_keywords = open('../data/keywords/visual_keywords.txt', 'r').read().split(',')\n",
    "def contains_visual_keywords(text):\n",
    "    if isinstance(text, str):\n",
    "        for keyword in visual_keywords:\n",
    "            if re.search(keyword, text, re.IGNORECASE):\n",
    "                return True  \n",
    "    return False\n",
    "\n",
    "\n",
    "df[\"Visual_Evidence\"] = df[\"description\"].apply(contains_visual_keywords)\n",
    "df['Visual_Evidence'].value_counts()\n"
   ]
  },
  {
   "cell_type": "markdown",
   "metadata": {},
   "source": [
    "## **Date Extraction**\n",
    "\n",
    "Date extacted using [datefinder](https://github.com/akoumjian/datefinder)\n",
    " \n",
    "**\"Haunted Places Date\" [datetime]**\n",
    "- Format: YYYY/MM/DD\n",
    "- Default Value: 2015/01/01\n",
    "\n",
    "**NOTE**:\n",
    "\n",
    "- datefinder.find_dates() will parse any number as an incomplete date and set the year to 2025. \n",
    "    - To filter out false positives, we filter out dates with year == 2025. \n",
    "- Used Regex Expression to capture \"20's, 30's, etc.\". \n",
    "    - eg {index: 1275}: *\"A little boy haunts theater number 5 who was killed back in the '70's during a freak construction accident.* -> [datetime.datetime(1970, 1, 1, 0, 0)]\n",
    "\n",
    "    "
   ]
  },
  {
   "cell_type": "code",
   "execution_count": 197,
   "metadata": {},
   "outputs": [
    {
     "name": "stderr",
     "output_type": "stream",
     "text": [
      "/Users/dgottschalk/miniconda3/lib/python3.12/site-packages/dateutil/parser/_parser.py:1207: UnknownTimezoneWarning: tzname M identified but not understood.  Pass `tzinfos` argument in order to correctly return a timezone-aware datetime.  In a future version, this will raise an exception.\n",
      "  warnings.warn(\"tzname {tzname} identified but not understood.  \"\n"
     ]
    },
    {
     "name": "stdout",
     "output_type": "stream",
     "text": [
      "Extraction Completed\n",
      "There are  1932  entries with multiple dates\n"
     ]
    }
   ],
   "source": [
    "import datefinder\n",
    "import datetime\n",
    "\n",
    "def extract_dates(text):\n",
    "    \n",
    "    # Parse Using DateFinder\n",
    "    matched_dates = [date for date in datefinder.find_dates(text, base_date = datetime.datetime(2025, 1, 1)) if date.year < 2025]\n",
    "\n",
    "    # Parse Using Regex\n",
    "    pattern = r\"\\b\\d{2}'s\\b\"\n",
    "    matched_years = re.findall(pattern, text)\n",
    "\n",
    "    for year in matched_years:\n",
    "        year = \"19\" + year.replace(\"'s\", \"\").strip()\n",
    "        matched_dates.append(datetime.datetime(int(year), 1, 1))\n",
    "\n",
    "    # If No Dates Matched, Return [2025, 1, 1]\n",
    "    if matched_dates == []:\n",
    "        return datetime.datetime(2025, 1, 1)\n",
    "    return [date for date in matched_dates if date.year != 2025]\n",
    "\n",
    "df[\"Haunted_Places_Date\"] = df[\"description\"].apply(extract_dates)\n",
    "\n",
    "# Handling Multi-Date Entries\n",
    "print(\"Extraction Completed\")\n",
    "\n",
    "multi_date_entries = df[\"Haunted_Places_Date\"].apply(lambda x : len(x) > 2 if isinstance(x, list) else False)\n",
    "\n",
    "print(\"There are \", df[multi_date_entries == True].size, \" entries with multiple dates\")\n",
    "\n",
    "# Expand DataFrame\n",
    "exploded_df = df.explode(\"Haunted_Places_Date\")\n",
    "# Take Dates Out of List\n",
    "exploded_df['Haunted_Places_Date'].apply(lambda x: x[0] if isinstance(x, list) else x)\n",
    "# Convert to Datetime. Fillna with [2025, 1, 1]\n",
    "exploded_df[\"Haunted_Places_Date\"] = pd.to_datetime(exploded_df[\"Haunted_Places_Date\"], errors=\"coerce\").fillna(datetime.datetime(2025, 1, 1))\n"
   ]
  },
  {
   "cell_type": "markdown",
   "metadata": {},
   "source": [
    "## **Haunted Places Witness Count**\n",
    "\n",
    "Date extacted using [numberscraper](https://github.com/scrapinghub/number-parser)\n",
    "\n",
    "**\"Haunted Places Date\" [datetime]**\n",
    "- Format: YYYY/MM/DD\n",
    "- Default Value: 2015/01/01\n",
    "\n",
    "**NOTE**:\n",
    "\n",
    "- datefinder.find_dates() will parse any number as an incomplete date and set the year to 2025. \n",
    "    - To filter out false positives, we filter out dates with year == 2025. \n",
    "- Used Regex Expression to capture \"20's, 30's, etc.\". \n",
    "    - eg {index: 1275}: *\"A little boy haunts theater number 5 who was killed back in the '70's during a freak construction accident.* -> [datetime.datetime(1970, 1, 1, 0, 0)]\n",
    "\n",
    "    "
   ]
  },
  {
   "cell_type": "code",
   "execution_count": null,
   "metadata": {},
   "outputs": [],
   "source": [
    "def text_2_num"
   ]
  },
  {
   "cell_type": "code",
   "execution_count": null,
   "metadata": {},
   "outputs": [],
   "source": [
    "df.to_csv('../data/processed/haunted_places_features_added.tab', sep = '\\t')"
   ]
  }
 ],
 "metadata": {
  "kernelspec": {
   "display_name": "base",
   "language": "python",
   "name": "python3"
  },
  "language_info": {
   "codemirror_mode": {
    "name": "ipython",
    "version": 3
   },
   "file_extension": ".py",
   "mimetype": "text/x-python",
   "name": "python",
   "nbconvert_exporter": "python",
   "pygments_lexer": "ipython3",
   "version": "3.12.9"
  }
 },
 "nbformat": 4,
 "nbformat_minor": 2
}
